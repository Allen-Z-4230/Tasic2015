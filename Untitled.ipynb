{
 "cells": [
  {
   "cell_type": "code",
   "execution_count": 1,
   "metadata": {},
   "outputs": [
    {
     "name": "stderr",
     "output_type": "stream",
     "text": [
      "\u001b[32m[2019-11-27 16:36:28,689]\u001b[0m - \u001b[33m WARNING\u001b[0m -       ontquery - \u001b[34m        terms.py:239 \u001b[0m - <class 'neurondm.core.OntTermOntologyOnly'> has intervening instrumented classes between it and its uninstrumented form <class 'neurondm.core.OntId'>\u001b[0m\n",
      "\u001b[32m[2019-11-27 16:36:28,690]\u001b[0m - \u001b[33m WARNING\u001b[0m -       ontquery - \u001b[34m        terms.py:239 \u001b[0m - <class 'neurondm.core.OntTermInterLexOnly'> has intervening instrumented classes between it and its uninstrumented form <class 'neurondm.core.OntId'>\u001b[0m\n",
      "\u001b[32m[2019-11-27 16:36:33,591]\u001b[0m - \u001b[33m WARNING\u001b[0m -       ontquery - \u001b[34m        terms.py:605 \u001b[0m - No results have labels! OntTerm('NCBIGene:18573') OntTerm('NCBIGene:18573')\u001b[0m\n",
      "\u001b[32m[2019-11-27 16:36:33,593]\u001b[0m - \u001b[32m    INFO\u001b[0m -       neurondm - \u001b[34m         core.py:1440\u001b[0m - Unknown phenotype http://www.ncbi.nlm.nih.gov/gene/18573\u001b[0m\n",
      "\u001b[32m[2019-11-27 16:36:34,596]\u001b[0m - \u001b[33m WARNING\u001b[0m -       ontquery - \u001b[34m        terms.py:605 \u001b[0m - No results have labels! OntTerm('NCBIGene:19017') OntTerm('NCBIGene:19017')\u001b[0m\n",
      "\u001b[32m[2019-11-27 16:36:34,596]\u001b[0m - \u001b[32m    INFO\u001b[0m -       neurondm - \u001b[34m         core.py:1440\u001b[0m - Unknown phenotype http://www.ncbi.nlm.nih.gov/gene/19017\u001b[0m\n",
      "\u001b[32m[2019-11-27 16:36:34,942]\u001b[0m - \u001b[32m    INFO\u001b[0m -       neurondm - \u001b[34m         core.py:1572\u001b[0m - found shortnames for NCBIGene:19293 from NCBIGene ['PV', 'Pva', 'Parv']\u001b[0m\n",
      "\u001b[32m[2019-11-27 16:36:37,198]\u001b[0m - \u001b[33m WARNING\u001b[0m -       ontquery - \u001b[34m        terms.py:572 \u001b[0m - No curie for http://jaxmice.jax.org/strain/028579 from <ontquery.plugins.services.SciGraphRemote object at 0x7fb2dc250310>\u001b[0m\n",
      "\u001b[32m[2019-11-27 16:36:37,524]\u001b[0m - \u001b[33m WARNING\u001b[0m -       ontquery - \u001b[34m        terms.py:572 \u001b[0m - No curie for http://jaxmice.jax.org/strain/013730 from <ontquery.plugins.services.SciGraphRemote object at 0x7fb2dc250310>\u001b[0m\n",
      "\u001b[32m[2019-11-27 16:36:37,625]\u001b[0m - \u001b[33m WARNING\u001b[0m -       ontquery - \u001b[34m        terms.py:572 \u001b[0m - No curie for http://jaxmice.jax.org/strain/014541 from <ontquery.plugins.services.SciGraphRemote object at 0x7fb2dc250310>\u001b[0m\n",
      "\u001b[32m[2019-11-27 16:36:37,842]\u001b[0m - \u001b[33m WARNING\u001b[0m -       ontquery - \u001b[34m        terms.py:572 \u001b[0m - No curie for http://jaxmice.jax.org/strain/017320 from <ontquery.plugins.services.SciGraphRemote object at 0x7fb2dc250310>\u001b[0m\n",
      "\u001b[32m[2019-11-27 16:36:37,866]\u001b[0m - \u001b[33m WARNING\u001b[0m -       ontquery - \u001b[34m        terms.py:572 \u001b[0m - No curie for http://jaxmice.jax.org/strain/028578 from <ontquery.plugins.services.SciGraphRemote object at 0x7fb2dc250310>\u001b[0m\n",
      "\u001b[32m[2019-11-27 16:36:37,969]\u001b[0m - \u001b[33m WARNING\u001b[0m -       ontquery - \u001b[34m        terms.py:572 \u001b[0m - No curie for http://jaxmice.jax.org/strain/012706 from <ontquery.plugins.services.SciGraphRemote object at 0x7fb2dc250310>\u001b[0m\n",
      "\u001b[32m[2019-11-27 16:36:38,309]\u001b[0m - \u001b[33m WARNING\u001b[0m -       ontquery - \u001b[34m        terms.py:572 \u001b[0m - No curie for http://jaxmice.jax.org/strain/028579 from <ontquery.plugins.services.SciGraphRemote object at 0x7fb2dc250310>\u001b[0m\n",
      "\u001b[32m[2019-11-27 16:36:38,317]\u001b[0m - \u001b[33m WARNING\u001b[0m -       ontquery - \u001b[34m        terms.py:572 \u001b[0m - No curie for http://jaxmice.jax.org/strain/013730 from <ontquery.plugins.services.SciGraphRemote object at 0x7fb2dc250310>\u001b[0m\n",
      "\u001b[32m[2019-11-27 16:36:38,324]\u001b[0m - \u001b[33m WARNING\u001b[0m -       ontquery - \u001b[34m        terms.py:572 \u001b[0m - No curie for http://jaxmice.jax.org/strain/014541 from <ontquery.plugins.services.SciGraphRemote object at 0x7fb2dc250310>\u001b[0m\n",
      "\u001b[32m[2019-11-27 16:36:38,340]\u001b[0m - \u001b[33m WARNING\u001b[0m -       ontquery - \u001b[34m        terms.py:572 \u001b[0m - No curie for http://jaxmice.jax.org/strain/017320 from <ontquery.plugins.services.SciGraphRemote object at 0x7fb2dc250310>\u001b[0m\n",
      "\u001b[32m[2019-11-27 16:36:38,341]\u001b[0m - \u001b[33m WARNING\u001b[0m -       ontquery - \u001b[34m        terms.py:572 \u001b[0m - No curie for http://jaxmice.jax.org/strain/028578 from <ontquery.plugins.services.SciGraphRemote object at 0x7fb2dc250310>\u001b[0m\n",
      "\u001b[32m[2019-11-27 16:36:38,344]\u001b[0m - \u001b[33m WARNING\u001b[0m -       ontquery - \u001b[34m        terms.py:572 \u001b[0m - No curie for http://jaxmice.jax.org/strain/012706 from <ontquery.plugins.services.SciGraphRemote object at 0x7fb2dc250310>\u001b[0m\n",
      "\u001b[32m[2019-11-27 16:36:42,960]\u001b[0m - \u001b[32m    INFO\u001b[0m -       neurondm - \u001b[34m         core.py:1440\u001b[0m - Unknown phenotype http://jaxmice.jax.org/strain/10774.0\u001b[0m\n",
      "\u001b[32m[2019-11-27 16:36:42,972]\u001b[0m - \u001b[32m    INFO\u001b[0m -       neurondm - \u001b[34m         core.py:1440\u001b[0m - Unknown phenotype http://www.mmrrc.org/catalog/getSDS.jsp?mmrrc_id=36502.0\u001b[0m\n",
      "\u001b[32m[2019-11-27 16:36:42,991]\u001b[0m - \u001b[32m    INFO\u001b[0m -       neurondm - \u001b[34m         core.py:1440\u001b[0m - Unknown phenotype http://www.mmrrc.org/catalog/getSDS.jsp?mmrrc_id=32779.0\u001b[0m\n",
      "\u001b[32m[2019-11-27 16:36:43,014]\u001b[0m - \u001b[32m    INFO\u001b[0m -       neurondm - \u001b[34m         core.py:1440\u001b[0m - Unknown phenotype http://jaxmice.jax.org/strain/10802.0\u001b[0m\n",
      "\u001b[32m[2019-11-27 16:36:43,029]\u001b[0m - \u001b[32m    INFO\u001b[0m -       neurondm - \u001b[34m         core.py:1440\u001b[0m - Unknown phenotype http://www.mmrrc.org/catalog/getSDS.jsp?mmrrc_id=36680.0\u001b[0m\n",
      "\u001b[32m[2019-11-27 16:36:43,043]\u001b[0m - \u001b[32m    INFO\u001b[0m -       neurondm - \u001b[34m         core.py:1440\u001b[0m - Unknown phenotype http://jaxmice.jax.org/strain/28536.0\u001b[0m\n",
      "\u001b[32m[2019-11-27 16:36:43,060]\u001b[0m - \u001b[32m    INFO\u001b[0m -       neurondm - \u001b[34m         core.py:1440\u001b[0m - Unknown phenotype http://jaxmice.jax.org/strain/14541.0\u001b[0m\n",
      "\u001b[32m[2019-11-27 16:36:43,074]\u001b[0m - \u001b[32m    INFO\u001b[0m -       neurondm - \u001b[34m         core.py:1440\u001b[0m - Unknown phenotype http://jaxmice.jax.org/strain/6364.0\u001b[0m\n",
      "\u001b[32m[2019-11-27 16:36:43,088]\u001b[0m - \u001b[32m    INFO\u001b[0m -       neurondm - \u001b[34m         core.py:1440\u001b[0m - Unknown phenotype http://www.mmrrc.org/catalog/getSDS.jsp?mmrrc_id=30648.0\u001b[0m\n",
      "\u001b[32m[2019-11-27 16:36:43,102]\u001b[0m - \u001b[32m    INFO\u001b[0m -       neurondm - \u001b[34m         core.py:1440\u001b[0m - Unknown phenotype http://jaxmice.jax.org/strain/8069.0\u001b[0m\n",
      "\u001b[32m[2019-11-27 16:36:43,118]\u001b[0m - \u001b[32m    INFO\u001b[0m -       neurondm - \u001b[34m         core.py:1440\u001b[0m - Unknown phenotype http://www.mmrrc.org/catalog/getSDS.jsp?mmrrc_id=31125.0\u001b[0m\n",
      "\u001b[32m[2019-11-27 16:36:43,132]\u001b[0m - \u001b[32m    INFO\u001b[0m -       neurondm - \u001b[34m         core.py:1440\u001b[0m - Unknown phenotype http://jaxmice.jax.org/strain/23526.0\u001b[0m\n",
      "\u001b[32m[2019-11-27 16:36:43,152]\u001b[0m - \u001b[32m    INFO\u001b[0m -       neurondm - \u001b[34m         core.py:1440\u001b[0m - Unknown phenotype http://jaxmice.jax.org/strain/9112.0\u001b[0m\n",
      "\u001b[32m[2019-11-27 16:36:43,192]\u001b[0m - \u001b[32m    INFO\u001b[0m -       neurondm - \u001b[34m         core.py:1440\u001b[0m - Unknown phenotype http://jaxmice.jax.org/strain/9613.0\u001b[0m\n",
      "\u001b[32m[2019-11-27 16:36:43,209]\u001b[0m - \u001b[32m    INFO\u001b[0m -       neurondm - \u001b[34m         core.py:1440\u001b[0m - Unknown phenotype http://jaxmice.jax.org/strain/28863.0\u001b[0m\n",
      "\u001b[32m[2019-11-27 16:36:43,220]\u001b[0m - \u001b[32m    INFO\u001b[0m -       neurondm - \u001b[34m         core.py:1440\u001b[0m - Unknown phenotype http://jaxmice.jax.org/strain/28862.0\u001b[0m\n",
      "\u001b[32m[2019-11-27 16:36:43,239]\u001b[0m - \u001b[32m    INFO\u001b[0m -       neurondm - \u001b[34m         core.py:1440\u001b[0m - Unknown phenotype http://jaxmice.jax.org/strain/13044.0\u001b[0m\n",
      "\u001b[32m[2019-11-27 16:36:43,252]\u001b[0m - \u001b[32m    INFO\u001b[0m -       neurondm - \u001b[34m         core.py:1440\u001b[0m - Unknown phenotype http://jaxmice.jax.org/strain/21877.0\u001b[0m\n",
      "\u001b[32m[2019-11-27 16:36:43,264]\u001b[0m - \u001b[32m    INFO\u001b[0m -       neurondm - \u001b[34m         core.py:1440\u001b[0m - Unknown phenotype http://jaxmice.jax.org/strain/10908.0\u001b[0m\n",
      "\u001b[32m[2019-11-27 16:36:43,272]\u001b[0m - \u001b[32m    INFO\u001b[0m -       neurondm - \u001b[34m         core.py:1440\u001b[0m - Unknown phenotype http://jaxmice.jax.org/strain/6410.0\u001b[0m\n",
      "\u001b[32m[2019-11-27 16:36:43,284]\u001b[0m - \u001b[32m    INFO\u001b[0m -       neurondm - \u001b[34m         core.py:1440\u001b[0m - Unknown phenotype http://jaxmice.jax.org/strain/14552.0\u001b[0m\n",
      "\u001b[32m[2019-11-27 16:36:43,295]\u001b[0m - \u001b[32m    INFO\u001b[0m -       neurondm - \u001b[34m         core.py:1440\u001b[0m - Unknown phenotype http://jaxmice.jax.org/strain/21190.0\u001b[0m\n",
      "\u001b[32m[2019-11-27 16:36:43,307]\u001b[0m - \u001b[32m    INFO\u001b[0m -       neurondm - \u001b[34m         core.py:1440\u001b[0m - Unknown phenotype http://jaxmice.jax.org/strain/22730.0\u001b[0m\n",
      "\u001b[32m[2019-11-27 16:36:43,318]\u001b[0m - \u001b[32m    INFO\u001b[0m -       neurondm - \u001b[34m         core.py:1440\u001b[0m - Unknown phenotype http://jaxmice.jax.org/strain/22865.0\u001b[0m\n"
     ]
    }
   ],
   "source": [
    "from tasic2015 import *\n",
    "tb = TasicBagger(data=df_types, **{'cre':cre_df})\n",
    "tl = tb.build_transgenic_lines()\n",
    "phs = tb.transgenic_lines_phenotypes()"
   ]
  },
  {
   "cell_type": "code",
   "execution_count": 2,
   "metadata": {},
   "outputs": [
    {
     "name": "stderr",
     "output_type": "stream",
     "text": [
      "\u001b[32m[2019-11-27 16:37:01,779]\u001b[0m - \u001b[33m WARNING\u001b[0m -       ontquery - \u001b[34m        terms.py:605 \u001b[0m - No results have labels! OntTerm('JAX:10774.0') OntTerm('JAX:10774.0')\u001b[0m\n",
      "\u001b[32m[2019-11-27 16:37:01,784]\u001b[0m - \u001b[33m WARNING\u001b[0m -       ontquery - \u001b[34m        terms.py:605 \u001b[0m - No results have labels! OntTerm(http://www.mmrrc.org/catalog/getSDS.jsp?mmrrc_id=36502.0) OntTerm(http://www.mmrrc.org/catalog/getSDS.jsp?mmrrc_id=36502.0)\u001b[0m\n",
      "\u001b[32m[2019-11-27 16:37:01,793]\u001b[0m - \u001b[33m WARNING\u001b[0m -       ontquery - \u001b[34m        terms.py:605 \u001b[0m - No results have labels! OntTerm('JAX:10802.0') OntTerm('JAX:10802.0')\u001b[0m\n",
      "\u001b[32m[2019-11-27 16:37:01,797]\u001b[0m - \u001b[33m WARNING\u001b[0m -       ontquery - \u001b[34m        terms.py:605 \u001b[0m - No results have labels! OntTerm('JAX:28536.0') OntTerm('JAX:28536.0')\u001b[0m\n",
      "\u001b[32m[2019-11-27 16:37:01,799]\u001b[0m - \u001b[33m WARNING\u001b[0m -       ontquery - \u001b[34m        terms.py:605 \u001b[0m - No results have labels! OntTerm('JAX:14541.0') OntTerm('JAX:14541.0')\u001b[0m\n",
      "\u001b[32m[2019-11-27 16:37:01,804]\u001b[0m - \u001b[33m WARNING\u001b[0m -       ontquery - \u001b[34m        terms.py:605 \u001b[0m - No results have labels! OntTerm('JAX:6364.0') OntTerm('JAX:6364.0')\u001b[0m\n",
      "\u001b[32m[2019-11-27 16:37:01,806]\u001b[0m - \u001b[33m WARNING\u001b[0m -       ontquery - \u001b[34m        terms.py:605 \u001b[0m - No results have labels! OntTerm('JAX:8069.0') OntTerm('JAX:8069.0')\u001b[0m\n",
      "\u001b[32m[2019-11-27 16:37:01,812]\u001b[0m - \u001b[33m WARNING\u001b[0m -       ontquery - \u001b[34m        terms.py:605 \u001b[0m - No results have labels! OntTerm('JAX:23526.0') OntTerm('JAX:23526.0')\u001b[0m\n",
      "\u001b[32m[2019-11-27 16:37:01,817]\u001b[0m - \u001b[33m WARNING\u001b[0m -       ontquery - \u001b[34m        terms.py:605 \u001b[0m - No results have labels! OntTerm('JAX:9112.0') OntTerm('JAX:9112.0')\u001b[0m\n",
      "\u001b[32m[2019-11-27 16:37:01,821]\u001b[0m - \u001b[33m WARNING\u001b[0m -       ontquery - \u001b[34m        terms.py:605 \u001b[0m - No results have labels! OntTerm('JAX:9613.0') OntTerm('JAX:9613.0')\u001b[0m\n",
      "\u001b[32m[2019-11-27 16:37:01,823]\u001b[0m - \u001b[33m WARNING\u001b[0m -       ontquery - \u001b[34m        terms.py:605 \u001b[0m - No results have labels! OntTerm('JAX:28863.0') OntTerm('JAX:28863.0')\u001b[0m\n",
      "\u001b[32m[2019-11-27 16:37:01,825]\u001b[0m - \u001b[33m WARNING\u001b[0m -       ontquery - \u001b[34m        terms.py:605 \u001b[0m - No results have labels! OntTerm('JAX:28862.0') OntTerm('JAX:28862.0')\u001b[0m\n",
      "\u001b[32m[2019-11-27 16:37:01,831]\u001b[0m - \u001b[33m WARNING\u001b[0m -       ontquery - \u001b[34m        terms.py:605 \u001b[0m - No results have labels! OntTerm('JAX:13044.0') OntTerm('JAX:13044.0')\u001b[0m\n",
      "\u001b[32m[2019-11-27 16:37:01,838]\u001b[0m - \u001b[33m WARNING\u001b[0m -       ontquery - \u001b[34m        terms.py:605 \u001b[0m - No results have labels! OntTerm('JAX:21877.0') OntTerm('JAX:21877.0')\u001b[0m\n",
      "\u001b[32m[2019-11-27 16:37:01,845]\u001b[0m - \u001b[33m WARNING\u001b[0m -       ontquery - \u001b[34m        terms.py:605 \u001b[0m - No results have labels! OntTerm('JAX:10908.0') OntTerm('JAX:10908.0')\u001b[0m\n",
      "\u001b[32m[2019-11-27 16:37:01,852]\u001b[0m - \u001b[33m WARNING\u001b[0m -       ontquery - \u001b[34m        terms.py:605 \u001b[0m - No results have labels! OntTerm('JAX:6410.0') OntTerm('JAX:6410.0')\u001b[0m\n",
      "\u001b[32m[2019-11-27 16:37:01,855]\u001b[0m - \u001b[33m WARNING\u001b[0m -       ontquery - \u001b[34m        terms.py:605 \u001b[0m - No results have labels! OntTerm('JAX:14552.0') OntTerm('JAX:14552.0')\u001b[0m\n",
      "\u001b[32m[2019-11-27 16:37:01,857]\u001b[0m - \u001b[33m WARNING\u001b[0m -       ontquery - \u001b[34m        terms.py:605 \u001b[0m - No results have labels! OntTerm('JAX:21190.0') OntTerm('JAX:21190.0')\u001b[0m\n",
      "\u001b[32m[2019-11-27 16:37:01,894]\u001b[0m - \u001b[33m WARNING\u001b[0m -       ontquery - \u001b[34m        terms.py:605 \u001b[0m - No results have labels! OntTerm('JAX:22730.0') OntTerm('JAX:22730.0')\u001b[0m\n",
      "\u001b[32m[2019-11-27 16:37:01,903]\u001b[0m - \u001b[33m WARNING\u001b[0m -       ontquery - \u001b[34m        terms.py:605 \u001b[0m - No results have labels! OntTerm('JAX:22865.0') OntTerm('JAX:22865.0')\u001b[0m\n"
     ]
    },
    {
     "data": {
      "text/plain": [
       "[Phenotype('JAX:10774.0', 'ilxtr:hasDriverExpressionPhenotype', label='JAX:10774.0'),\n",
       " Phenotype('http://www.mmrrc.org/catalog/getSDS.jsp?mmrrc_id=36502.0', 'ilxtr:hasDriverExpressionPhenotype', label='None'),\n",
       " Phenotype('http://www.mmrrc.org/catalog/getSDS.jsp?mmrrc_id=32779.0', 'ilxtr:hasDriverExpressionInducedPhenotype', label='None'),\n",
       " Phenotype('JAX:10802.0', 'ilxtr:hasDriverExpressionPhenotype', label='JAX:10802.0'),\n",
       " Phenotype('http://www.mmrrc.org/catalog/getSDS.jsp?mmrrc_id=36680.0', 'ilxtr:hasDriverExpressionPhenotype', label='None'),\n",
       " Phenotype('JAX:28536.0', 'ilxtr:hasDriverExpressionPhenotype', label='JAX:28536.0'),\n",
       " Phenotype('JAX:14541.0', 'ilxtr:hasDriverExpressionInducedPhenotype', label='JAX:14541.0'),\n",
       " Phenotype('JAX:6364.0', 'ilxtr:hasDriverExpressionPhenotype', label='JAX:6364.0'),\n",
       " Phenotype('http://www.mmrrc.org/catalog/getSDS.jsp?mmrrc_id=30648.0', 'ilxtr:hasDriverExpressionPhenotype', label='None'),\n",
       " Phenotype('JAX:8069.0', 'ilxtr:hasDriverExpressionPhenotype', label='JAX:8069.0'),\n",
       " Phenotype('http://www.mmrrc.org/catalog/getSDS.jsp?mmrrc_id=31125.0', 'ilxtr:hasDriverExpressionPhenotype', label='None'),\n",
       " Phenotype('JAX:23526.0', 'ilxtr:hasDriverExpressionPhenotype', label='JAX:23526.0'),\n",
       " Phenotype('JAX:9112.0', 'ilxtr:hasDriverExpressionPhenotype', label='JAX:9112.0'),\n",
       " Phenotype('JAX:9613.0', 'ilxtr:hasDriverExpressionPhenotype', label='JAX:9613.0'),\n",
       " Phenotype('JAX:28863.0', 'ilxtr:hasDriverExpressionPhenotype', label='JAX:28863.0'),\n",
       " Phenotype('JAX:28862.0', 'ilxtr:hasDriverExpressionPhenotype', label='JAX:28862.0'),\n",
       " Phenotype('JAX:13044.0', 'ilxtr:hasDriverExpressionPhenotype', label='JAX:13044.0'),\n",
       " Phenotype('JAX:21877.0', 'ilxtr:hasDriverExpressionPhenotype', label='JAX:21877.0'),\n",
       " Phenotype('JAX:10908.0', 'ilxtr:hasDriverExpressionPhenotype', label='JAX:10908.0'),\n",
       " Phenotype('JAX:6410.0', 'ilxtr:hasDriverExpressionPhenotype', label='JAX:6410.0'),\n",
       " Phenotype('JAX:14552.0', 'ilxtr:hasDriverExpressionInducedPhenotype', label='JAX:14552.0'),\n",
       " Phenotype('JAX:21190.0', 'ilxtr:hasDriverExpressionPhenotype', label='JAX:21190.0'),\n",
       " Phenotype('JAX:22730.0', 'ilxtr:hasDriverExpressionPhenotype', label='JAX:22730.0'),\n",
       " Phenotype('JAX:22865.0', 'ilxtr:hasDriverExpressionInducedPhenotype', label='JAX:22865.0')]"
      ]
     },
     "execution_count": 2,
     "metadata": {},
     "output_type": "execute_result"
    }
   ],
   "source": [
    "phs"
   ]
  }
 ],
 "metadata": {
  "kernelspec": {
   "display_name": "Python 3",
   "language": "python",
   "name": "python3"
  },
  "language_info": {
   "codemirror_mode": {
    "name": "ipython",
    "version": 3
   },
   "file_extension": ".py",
   "mimetype": "text/x-python",
   "name": "python",
   "nbconvert_exporter": "python",
   "pygments_lexer": "ipython3",
   "version": "3.7.4"
  }
 },
 "nbformat": 4,
 "nbformat_minor": 2
}
