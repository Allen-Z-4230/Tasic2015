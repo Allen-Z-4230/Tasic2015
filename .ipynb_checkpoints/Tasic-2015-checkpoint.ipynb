{
 "cells": [
  {
   "cell_type": "markdown",
   "metadata": {},
   "source": [
    "http://casestudies.brain-map.org/celltax\n",
    "\n",
    "https://www.nature.com/articles/nn.4216"
   ]
  },
  {
   "cell_type": "code",
   "execution_count": 5,
   "metadata": {},
   "outputs": [],
   "source": [
    "#standard libraries\n",
    "from pathlib import Path\n",
    "from importlib import reload\n",
    "\n",
    "#extended libraries\n",
    "import requests\n",
    "import rdflib\n",
    "import numpy as np\n",
    "import pandas as pd\n",
    "import scipy as sp\n",
    "import matplotlib.pyplot as plt\n",
    "\n",
    "#tree stuff\n",
    "import anytree\n",
    "import anytree.util\n",
    "from anytree.importer import DictImporter\n",
    "from anytree.exporter import DotExporter\n",
    "\n",
    "#custom imports\n",
    "from neurondm import *\n",
    "# from neurondm.models.huang2017 import Genes\n",
    "from pyontutils.namespaces import ilxtr as pred\n",
    "from neurondm import phenotype_namespaces as phns\n",
    "from pyontutils.closed_namespaces import rdf, rdfs, owl\n",
    "# from nifstd.nifstd_tools.utils import ncbigenemapping\n",
    "from utils import *\n",
    "# from tasic2015 import *"
   ]
  },
  {
   "cell_type": "code",
   "execution_count": 6,
   "metadata": {
    "collapsed": true
   },
   "outputs": [
    {
     "ename": "Exception",
     "evalue": "Can't split 'http://www.ncbi.nlm.nih.gov/gene/19293'",
     "output_type": "error",
     "traceback": [
      "\u001b[0;31m---------------------------------------------------------------------------\u001b[0m",
      "\u001b[0;31mException\u001b[0m                                 Traceback (most recent call last)",
      "\u001b[0;32m<ipython-input-6-2f90d4c03990>\u001b[0m in \u001b[0;36m<module>\u001b[0;34m\u001b[0m\n\u001b[1;32m      1\u001b[0m \u001b[0mget_ipython\u001b[0m\u001b[0;34m(\u001b[0m\u001b[0;34m)\u001b[0m\u001b[0;34m.\u001b[0m\u001b[0mrun_line_magic\u001b[0m\u001b[0;34m(\u001b[0m\u001b[0;34m'load_ext'\u001b[0m\u001b[0;34m,\u001b[0m \u001b[0;34m'autoreload'\u001b[0m\u001b[0;34m)\u001b[0m\u001b[0;34m\u001b[0m\u001b[0;34m\u001b[0m\u001b[0m\n\u001b[1;32m      2\u001b[0m \u001b[0mget_ipython\u001b[0m\u001b[0;34m(\u001b[0m\u001b[0;34m)\u001b[0m\u001b[0;34m.\u001b[0m\u001b[0mrun_line_magic\u001b[0m\u001b[0;34m(\u001b[0m\u001b[0;34m'autoreload'\u001b[0m\u001b[0;34m,\u001b[0m \u001b[0;34m'1'\u001b[0m\u001b[0;34m)\u001b[0m\u001b[0;34m\u001b[0m\u001b[0;34m\u001b[0m\u001b[0m\n\u001b[0;32m----> 3\u001b[0;31m \u001b[0mget_ipython\u001b[0m\u001b[0;34m(\u001b[0m\u001b[0;34m)\u001b[0m\u001b[0;34m.\u001b[0m\u001b[0mrun_line_magic\u001b[0m\u001b[0;34m(\u001b[0m\u001b[0;34m'aimport'\u001b[0m\u001b[0;34m,\u001b[0m \u001b[0;34m'tasic2015'\u001b[0m\u001b[0;34m)\u001b[0m\u001b[0;34m\u001b[0m\u001b[0;34m\u001b[0m\u001b[0m\n\u001b[0m",
      "\u001b[0;32m~/miniconda3/envs/neuron/lib/python3.7/site-packages/IPython/core/interactiveshell.py\u001b[0m in \u001b[0;36mrun_line_magic\u001b[0;34m(self, magic_name, line, _stack_depth)\u001b[0m\n\u001b[1;32m   2312\u001b[0m                 \u001b[0mkwargs\u001b[0m\u001b[0;34m[\u001b[0m\u001b[0;34m'local_ns'\u001b[0m\u001b[0;34m]\u001b[0m \u001b[0;34m=\u001b[0m \u001b[0msys\u001b[0m\u001b[0;34m.\u001b[0m\u001b[0m_getframe\u001b[0m\u001b[0;34m(\u001b[0m\u001b[0mstack_depth\u001b[0m\u001b[0;34m)\u001b[0m\u001b[0;34m.\u001b[0m\u001b[0mf_locals\u001b[0m\u001b[0;34m\u001b[0m\u001b[0;34m\u001b[0m\u001b[0m\n\u001b[1;32m   2313\u001b[0m             \u001b[0;32mwith\u001b[0m \u001b[0mself\u001b[0m\u001b[0;34m.\u001b[0m\u001b[0mbuiltin_trap\u001b[0m\u001b[0;34m:\u001b[0m\u001b[0;34m\u001b[0m\u001b[0;34m\u001b[0m\u001b[0m\n\u001b[0;32m-> 2314\u001b[0;31m                 \u001b[0mresult\u001b[0m \u001b[0;34m=\u001b[0m \u001b[0mfn\u001b[0m\u001b[0;34m(\u001b[0m\u001b[0;34m*\u001b[0m\u001b[0margs\u001b[0m\u001b[0;34m,\u001b[0m \u001b[0;34m**\u001b[0m\u001b[0mkwargs\u001b[0m\u001b[0;34m)\u001b[0m\u001b[0;34m\u001b[0m\u001b[0;34m\u001b[0m\u001b[0m\n\u001b[0m\u001b[1;32m   2315\u001b[0m             \u001b[0;32mreturn\u001b[0m \u001b[0mresult\u001b[0m\u001b[0;34m\u001b[0m\u001b[0;34m\u001b[0m\u001b[0m\n\u001b[1;32m   2316\u001b[0m \u001b[0;34m\u001b[0m\u001b[0m\n",
      "\u001b[0;32m</home/allen/miniconda3/envs/neuron/lib/python3.7/site-packages/decorator.py:decorator-gen-127>\u001b[0m in \u001b[0;36maimport\u001b[0;34m(self, parameter_s, stream)\u001b[0m\n",
      "\u001b[0;32m~/miniconda3/envs/neuron/lib/python3.7/site-packages/IPython/core/magic.py\u001b[0m in \u001b[0;36m<lambda>\u001b[0;34m(f, *a, **k)\u001b[0m\n\u001b[1;32m    185\u001b[0m     \u001b[0;31m# but it's overkill for just that one bit of state.\u001b[0m\u001b[0;34m\u001b[0m\u001b[0;34m\u001b[0m\u001b[0;34m\u001b[0m\u001b[0m\n\u001b[1;32m    186\u001b[0m     \u001b[0;32mdef\u001b[0m \u001b[0mmagic_deco\u001b[0m\u001b[0;34m(\u001b[0m\u001b[0marg\u001b[0m\u001b[0;34m)\u001b[0m\u001b[0;34m:\u001b[0m\u001b[0;34m\u001b[0m\u001b[0;34m\u001b[0m\u001b[0m\n\u001b[0;32m--> 187\u001b[0;31m         \u001b[0mcall\u001b[0m \u001b[0;34m=\u001b[0m \u001b[0;32mlambda\u001b[0m \u001b[0mf\u001b[0m\u001b[0;34m,\u001b[0m \u001b[0;34m*\u001b[0m\u001b[0ma\u001b[0m\u001b[0;34m,\u001b[0m \u001b[0;34m**\u001b[0m\u001b[0mk\u001b[0m\u001b[0;34m:\u001b[0m \u001b[0mf\u001b[0m\u001b[0;34m(\u001b[0m\u001b[0;34m*\u001b[0m\u001b[0ma\u001b[0m\u001b[0;34m,\u001b[0m \u001b[0;34m**\u001b[0m\u001b[0mk\u001b[0m\u001b[0;34m)\u001b[0m\u001b[0;34m\u001b[0m\u001b[0;34m\u001b[0m\u001b[0m\n\u001b[0m\u001b[1;32m    188\u001b[0m \u001b[0;34m\u001b[0m\u001b[0m\n\u001b[1;32m    189\u001b[0m         \u001b[0;32mif\u001b[0m \u001b[0mcallable\u001b[0m\u001b[0;34m(\u001b[0m\u001b[0marg\u001b[0m\u001b[0;34m)\u001b[0m\u001b[0;34m:\u001b[0m\u001b[0;34m\u001b[0m\u001b[0;34m\u001b[0m\u001b[0m\n",
      "\u001b[0;32m~/miniconda3/envs/neuron/lib/python3.7/site-packages/IPython/extensions/autoreload.py\u001b[0m in \u001b[0;36maimport\u001b[0;34m(self, parameter_s, stream)\u001b[0m\n\u001b[1;32m    559\u001b[0m         \u001b[0;32melse\u001b[0m\u001b[0;34m:\u001b[0m\u001b[0;34m\u001b[0m\u001b[0;34m\u001b[0m\u001b[0m\n\u001b[1;32m    560\u001b[0m             \u001b[0;32mfor\u001b[0m \u001b[0m_module\u001b[0m \u001b[0;32min\u001b[0m \u001b[0;34m(\u001b[0m\u001b[0;34m[\u001b[0m\u001b[0m_\u001b[0m\u001b[0;34m.\u001b[0m\u001b[0mstrip\u001b[0m\u001b[0;34m(\u001b[0m\u001b[0;34m)\u001b[0m \u001b[0;32mfor\u001b[0m \u001b[0m_\u001b[0m \u001b[0;32min\u001b[0m \u001b[0mmodname\u001b[0m\u001b[0;34m.\u001b[0m\u001b[0msplit\u001b[0m\u001b[0;34m(\u001b[0m\u001b[0;34m','\u001b[0m\u001b[0;34m)\u001b[0m\u001b[0;34m]\u001b[0m\u001b[0;34m)\u001b[0m\u001b[0;34m:\u001b[0m\u001b[0;34m\u001b[0m\u001b[0;34m\u001b[0m\u001b[0m\n\u001b[0;32m--> 561\u001b[0;31m                 \u001b[0mtop_module\u001b[0m\u001b[0;34m,\u001b[0m \u001b[0mtop_name\u001b[0m \u001b[0;34m=\u001b[0m \u001b[0mself\u001b[0m\u001b[0;34m.\u001b[0m\u001b[0m_reloader\u001b[0m\u001b[0;34m.\u001b[0m\u001b[0maimport_module\u001b[0m\u001b[0;34m(\u001b[0m\u001b[0m_module\u001b[0m\u001b[0;34m)\u001b[0m\u001b[0;34m\u001b[0m\u001b[0;34m\u001b[0m\u001b[0m\n\u001b[0m\u001b[1;32m    562\u001b[0m \u001b[0;34m\u001b[0m\u001b[0m\n\u001b[1;32m    563\u001b[0m                 \u001b[0;31m# Inject module to user namespace\u001b[0m\u001b[0;34m\u001b[0m\u001b[0;34m\u001b[0m\u001b[0;34m\u001b[0m\u001b[0m\n",
      "\u001b[0;32m~/miniconda3/envs/neuron/lib/python3.7/site-packages/IPython/extensions/autoreload.py\u001b[0m in \u001b[0;36maimport_module\u001b[0;34m(self, module_name)\u001b[0m\n\u001b[1;32m    176\u001b[0m         \u001b[0mself\u001b[0m\u001b[0;34m.\u001b[0m\u001b[0mmark_module_reloadable\u001b[0m\u001b[0;34m(\u001b[0m\u001b[0mmodule_name\u001b[0m\u001b[0;34m)\u001b[0m\u001b[0;34m\u001b[0m\u001b[0;34m\u001b[0m\u001b[0m\n\u001b[1;32m    177\u001b[0m \u001b[0;34m\u001b[0m\u001b[0m\n\u001b[0;32m--> 178\u001b[0;31m         \u001b[0mimport_module\u001b[0m\u001b[0;34m(\u001b[0m\u001b[0mmodule_name\u001b[0m\u001b[0;34m)\u001b[0m\u001b[0;34m\u001b[0m\u001b[0;34m\u001b[0m\u001b[0m\n\u001b[0m\u001b[1;32m    179\u001b[0m         \u001b[0mtop_name\u001b[0m \u001b[0;34m=\u001b[0m \u001b[0mmodule_name\u001b[0m\u001b[0;34m.\u001b[0m\u001b[0msplit\u001b[0m\u001b[0;34m(\u001b[0m\u001b[0;34m'.'\u001b[0m\u001b[0;34m)\u001b[0m\u001b[0;34m[\u001b[0m\u001b[0;36m0\u001b[0m\u001b[0;34m]\u001b[0m\u001b[0;34m\u001b[0m\u001b[0;34m\u001b[0m\u001b[0m\n\u001b[1;32m    180\u001b[0m         \u001b[0mtop_module\u001b[0m \u001b[0;34m=\u001b[0m \u001b[0msys\u001b[0m\u001b[0;34m.\u001b[0m\u001b[0mmodules\u001b[0m\u001b[0;34m[\u001b[0m\u001b[0mtop_name\u001b[0m\u001b[0;34m]\u001b[0m\u001b[0;34m\u001b[0m\u001b[0;34m\u001b[0m\u001b[0m\n",
      "\u001b[0;32m~/miniconda3/envs/neuron/lib/python3.7/importlib/__init__.py\u001b[0m in \u001b[0;36mimport_module\u001b[0;34m(name, package)\u001b[0m\n\u001b[1;32m    125\u001b[0m                 \u001b[0;32mbreak\u001b[0m\u001b[0;34m\u001b[0m\u001b[0;34m\u001b[0m\u001b[0m\n\u001b[1;32m    126\u001b[0m             \u001b[0mlevel\u001b[0m \u001b[0;34m+=\u001b[0m \u001b[0;36m1\u001b[0m\u001b[0;34m\u001b[0m\u001b[0;34m\u001b[0m\u001b[0m\n\u001b[0;32m--> 127\u001b[0;31m     \u001b[0;32mreturn\u001b[0m \u001b[0m_bootstrap\u001b[0m\u001b[0;34m.\u001b[0m\u001b[0m_gcd_import\u001b[0m\u001b[0;34m(\u001b[0m\u001b[0mname\u001b[0m\u001b[0;34m[\u001b[0m\u001b[0mlevel\u001b[0m\u001b[0;34m:\u001b[0m\u001b[0;34m]\u001b[0m\u001b[0;34m,\u001b[0m \u001b[0mpackage\u001b[0m\u001b[0;34m,\u001b[0m \u001b[0mlevel\u001b[0m\u001b[0;34m)\u001b[0m\u001b[0;34m\u001b[0m\u001b[0;34m\u001b[0m\u001b[0m\n\u001b[0m\u001b[1;32m    128\u001b[0m \u001b[0;34m\u001b[0m\u001b[0m\n\u001b[1;32m    129\u001b[0m \u001b[0;34m\u001b[0m\u001b[0m\n",
      "\u001b[0;32m~/miniconda3/envs/neuron/lib/python3.7/importlib/_bootstrap.py\u001b[0m in \u001b[0;36m_gcd_import\u001b[0;34m(name, package, level)\u001b[0m\n",
      "\u001b[0;32m~/miniconda3/envs/neuron/lib/python3.7/importlib/_bootstrap.py\u001b[0m in \u001b[0;36m_find_and_load\u001b[0;34m(name, import_)\u001b[0m\n",
      "\u001b[0;32m~/miniconda3/envs/neuron/lib/python3.7/importlib/_bootstrap.py\u001b[0m in \u001b[0;36m_find_and_load_unlocked\u001b[0;34m(name, import_)\u001b[0m\n",
      "\u001b[0;32m~/miniconda3/envs/neuron/lib/python3.7/importlib/_bootstrap.py\u001b[0m in \u001b[0;36m_load_unlocked\u001b[0;34m(spec)\u001b[0m\n",
      "\u001b[0;32m~/miniconda3/envs/neuron/lib/python3.7/importlib/_bootstrap_external.py\u001b[0m in \u001b[0;36mexec_module\u001b[0;34m(self, module)\u001b[0m\n",
      "\u001b[0;32m~/miniconda3/envs/neuron/lib/python3.7/importlib/_bootstrap.py\u001b[0m in \u001b[0;36m_call_with_frames_removed\u001b[0;34m(f, *args, **kwds)\u001b[0m\n",
      "\u001b[0;32m/mnt/c/Users/allen/Desktop/Neuron/Tasic2015/tasic2015.py\u001b[0m in \u001b[0;36m<module>\u001b[0;34m\u001b[0m\n\u001b[1;32m     19\u001b[0m \u001b[0;31m# custom imports\u001b[0m\u001b[0;34m\u001b[0m\u001b[0;34m\u001b[0m\u001b[0;34m\u001b[0m\u001b[0m\n\u001b[1;32m     20\u001b[0m \u001b[0;32mfrom\u001b[0m \u001b[0mneurondm\u001b[0m \u001b[0;32mimport\u001b[0m \u001b[0;34m*\u001b[0m\u001b[0;34m\u001b[0m\u001b[0;34m\u001b[0m\u001b[0m\n\u001b[0;32m---> 21\u001b[0;31m \u001b[0;32mfrom\u001b[0m \u001b[0mneurondm\u001b[0m\u001b[0;34m.\u001b[0m\u001b[0mmodels\u001b[0m\u001b[0;34m.\u001b[0m\u001b[0mhuang2017\u001b[0m \u001b[0;32mimport\u001b[0m \u001b[0mGenes\u001b[0m \u001b[0;31m#FIXME: This is failing\u001b[0m\u001b[0;34m\u001b[0m\u001b[0;34m\u001b[0m\u001b[0m\n\u001b[0m\u001b[1;32m     22\u001b[0m \u001b[0;32mfrom\u001b[0m \u001b[0mpyontutils\u001b[0m\u001b[0;34m.\u001b[0m\u001b[0mnamespaces\u001b[0m \u001b[0;32mimport\u001b[0m \u001b[0milxtr\u001b[0m \u001b[0;32mas\u001b[0m \u001b[0mpred\u001b[0m\u001b[0;34m\u001b[0m\u001b[0;34m\u001b[0m\u001b[0m\n\u001b[1;32m     23\u001b[0m \u001b[0;32mfrom\u001b[0m \u001b[0mneurondm\u001b[0m \u001b[0;32mimport\u001b[0m \u001b[0mphenotype_namespaces\u001b[0m \u001b[0;32mas\u001b[0m \u001b[0mphns\u001b[0m\u001b[0;34m\u001b[0m\u001b[0;34m\u001b[0m\u001b[0m\n",
      "\u001b[0;32m/mnt/c/Users/allen/Desktop/Neuron/pyontutils/neurondm/neurondm/models/huang2017.py\u001b[0m in \u001b[0;36m<module>\u001b[0;34m\u001b[0m\n\u001b[1;32m    389\u001b[0m         \u001b[0;31m#fig1b\u001b[0m\u001b[0;34m\u001b[0m\u001b[0;34m\u001b[0m\u001b[0;34m\u001b[0m\u001b[0m\n\u001b[1;32m    390\u001b[0m         \u001b[0;31m# FIXME is approach to disjointness VS adding negative phenotypes\u001b[0m\u001b[0;34m\u001b[0m\u001b[0;34m\u001b[0m\u001b[0;34m\u001b[0m\u001b[0m\n\u001b[0;32m--> 391\u001b[0;31m         \u001b[0mNeuron\u001b[0m\u001b[0;34m(\u001b[0m\u001b[0mPvalb\u001b[0m\u001b[0;34m)\u001b[0m\u001b[0;34m.\u001b[0m\u001b[0mdisjointWith\u001b[0m\u001b[0;34m(\u001b[0m\u001b[0mNeuron\u001b[0m\u001b[0;34m(\u001b[0m\u001b[0mSst\u001b[0m\u001b[0;34m)\u001b[0m\u001b[0;34m,\u001b[0m \u001b[0mNeuron\u001b[0m\u001b[0;34m(\u001b[0m\u001b[0mHtr3a\u001b[0m\u001b[0;34m)\u001b[0m\u001b[0;34m)\u001b[0m\u001b[0;34m\u001b[0m\u001b[0;34m\u001b[0m\u001b[0m\n\u001b[0m\u001b[1;32m    392\u001b[0m         \u001b[0;31m#Neuron(Pvalb).equivalentClass(Neuron(NegPhenotype(Sst)), Neuron(NegPhenotype(Htr3a)))\u001b[0m\u001b[0;34m\u001b[0m\u001b[0;34m\u001b[0m\u001b[0;34m\u001b[0m\u001b[0m\n\u001b[1;32m    393\u001b[0m         \u001b[0;31m# FIXME for some reason the NegPhenotype neurons above fail to be added to the graph!??!\u001b[0m\u001b[0;34m\u001b[0m\u001b[0;34m\u001b[0m\u001b[0;34m\u001b[0m\u001b[0m\n",
      "\u001b[0;32m/mnt/c/Users/allen/Desktop/Neuron/pyontutils/neurondm/neurondm/core.py\u001b[0m in \u001b[0;36m__init__\u001b[0;34m(self, id_, label, override, equivalentNeurons, disjointNeurons, *phenotypeEdges)\u001b[0m\n\u001b[1;32m   2153\u001b[0m             \u001b[0mself\u001b[0m\u001b[0;34m.\u001b[0m\u001b[0mClass\u001b[0m \u001b[0;34m=\u001b[0m \u001b[0mself\u001b[0m\u001b[0;34m.\u001b[0m\u001b[0mexisting_pes\u001b[0m\u001b[0;34m[\u001b[0m\u001b[0mself\u001b[0m\u001b[0;34m]\u001b[0m\u001b[0;34m\u001b[0m\u001b[0;34m\u001b[0m\u001b[0m\n\u001b[1;32m   2154\u001b[0m         \u001b[0;32melse\u001b[0m\u001b[0;34m:\u001b[0m\u001b[0;34m\u001b[0m\u001b[0;34m\u001b[0m\u001b[0m\n\u001b[0;32m-> 2155\u001b[0;31m             \u001b[0mself\u001b[0m\u001b[0;34m.\u001b[0m\u001b[0mClass\u001b[0m \u001b[0;34m=\u001b[0m \u001b[0mself\u001b[0m\u001b[0;34m.\u001b[0m\u001b[0m_graphify\u001b[0m\u001b[0;34m(\u001b[0m\u001b[0;34m)\u001b[0m\u001b[0;34m\u001b[0m\u001b[0;34m\u001b[0m\u001b[0m\n\u001b[0m\u001b[1;32m   2156\u001b[0m             \u001b[0mself\u001b[0m\u001b[0;34m.\u001b[0m\u001b[0mClass\u001b[0m\u001b[0;34m.\u001b[0m\u001b[0mlabel\u001b[0m \u001b[0;34m=\u001b[0m \u001b[0mrdflib\u001b[0m\u001b[0;34m.\u001b[0m\u001b[0mLiteral\u001b[0m\u001b[0;34m(\u001b[0m\u001b[0mself\u001b[0m\u001b[0;34m.\u001b[0m\u001b[0mlabel\u001b[0m\u001b[0;34m)\u001b[0m  \u001b[0;31m# FIXME this seems... broken?\u001b[0m\u001b[0;34m\u001b[0m\u001b[0;34m\u001b[0m\u001b[0m\n\u001b[1;32m   2157\u001b[0m             \u001b[0mself\u001b[0m\u001b[0;34m.\u001b[0m\u001b[0mexisting_pes\u001b[0m\u001b[0;34m[\u001b[0m\u001b[0mself\u001b[0m\u001b[0;34m]\u001b[0m \u001b[0;34m=\u001b[0m \u001b[0mself\u001b[0m\u001b[0;34m.\u001b[0m\u001b[0mClass\u001b[0m\u001b[0;34m\u001b[0m\u001b[0;34m\u001b[0m\u001b[0m\n",
      "\u001b[0;32m/mnt/c/Users/allen/Desktop/Neuron/pyontutils/neurondm/neurondm/core.py\u001b[0m in \u001b[0;36m_graphify\u001b[0;34m(self, graph, *args)\u001b[0m\n\u001b[1;32m   2730\u001b[0m             \u001b[0mgraph\u001b[0m \u001b[0;34m=\u001b[0m \u001b[0mself\u001b[0m\u001b[0;34m.\u001b[0m\u001b[0mout_graph\u001b[0m\u001b[0;34m\u001b[0m\u001b[0;34m\u001b[0m\u001b[0m\n\u001b[1;32m   2731\u001b[0m \u001b[0;34m\u001b[0m\u001b[0m\n\u001b[0;32m-> 2732\u001b[0;31m         \u001b[0mself\u001b[0m\u001b[0;34m.\u001b[0m\u001b[0m_graphify_labels\u001b[0m\u001b[0;34m(\u001b[0m\u001b[0mgraph\u001b[0m\u001b[0;34m)\u001b[0m\u001b[0;34m\u001b[0m\u001b[0;34m\u001b[0m\u001b[0m\n\u001b[0m\u001b[1;32m   2733\u001b[0m         \u001b[0mmembers\u001b[0m \u001b[0;34m=\u001b[0m \u001b[0;34m[\u001b[0m\u001b[0mself\u001b[0m\u001b[0;34m.\u001b[0m\u001b[0mowlClass\u001b[0m\u001b[0;34m]\u001b[0m\u001b[0;34m\u001b[0m\u001b[0;34m\u001b[0m\u001b[0m\n\u001b[1;32m   2734\u001b[0m         \u001b[0;31m# use _graphify_expand_location to get the location + part of location behavior\u001b[0m\u001b[0;34m\u001b[0m\u001b[0;34m\u001b[0m\u001b[0;34m\u001b[0m\u001b[0m\n",
      "\u001b[0;32m/mnt/c/Users/allen/Desktop/Neuron/pyontutils/neurondm/neurondm/core.py\u001b[0m in \u001b[0;36m_graphify_labels\u001b[0;34m(self, graph)\u001b[0m\n\u001b[1;32m   2664\u001b[0m     \u001b[0;32mdef\u001b[0m \u001b[0m_graphify_labels\u001b[0m\u001b[0;34m(\u001b[0m\u001b[0mself\u001b[0m\u001b[0;34m,\u001b[0m \u001b[0mgraph\u001b[0m\u001b[0;34m)\u001b[0m\u001b[0;34m:\u001b[0m\u001b[0;34m\u001b[0m\u001b[0;34m\u001b[0m\u001b[0m\n\u001b[1;32m   2665\u001b[0m         \u001b[0;31m################## LABELS ARE DEFINED HERE ##################\u001b[0m\u001b[0;34m\u001b[0m\u001b[0;34m\u001b[0m\u001b[0;34m\u001b[0m\u001b[0m\n\u001b[0;32m-> 2666\u001b[0;31m         \u001b[0mgl\u001b[0m \u001b[0;34m=\u001b[0m \u001b[0mself\u001b[0m\u001b[0;34m.\u001b[0m\u001b[0mgenLabel\u001b[0m\u001b[0;34m\u001b[0m\u001b[0;34m\u001b[0m\u001b[0m\n\u001b[0m\u001b[1;32m   2667\u001b[0m         \u001b[0mll\u001b[0m \u001b[0;34m=\u001b[0m \u001b[0mself\u001b[0m\u001b[0;34m.\u001b[0m\u001b[0mlocalLabel\u001b[0m\u001b[0;34m\u001b[0m\u001b[0;34m\u001b[0m\u001b[0m\n\u001b[1;32m   2668\u001b[0m         \u001b[0mol\u001b[0m \u001b[0;34m=\u001b[0m \u001b[0mself\u001b[0m\u001b[0;34m.\u001b[0m\u001b[0morigLabel\u001b[0m\u001b[0;34m\u001b[0m\u001b[0;34m\u001b[0m\u001b[0m\n",
      "\u001b[0;32m/mnt/c/Users/allen/Desktop/Neuron/pyontutils/neurondm/neurondm/core.py\u001b[0m in \u001b[0;36mgenLabel\u001b[0;34m(self)\u001b[0m\n\u001b[1;32m   2287\u001b[0m     \u001b[0;32mdef\u001b[0m \u001b[0mgenLabel\u001b[0m\u001b[0;34m(\u001b[0m\u001b[0mself\u001b[0m\u001b[0;34m)\u001b[0m\u001b[0;34m:\u001b[0m\u001b[0;34m\u001b[0m\u001b[0;34m\u001b[0m\u001b[0m\n\u001b[1;32m   2288\u001b[0m         \u001b[0;31m# TODO predicate actions are the right way to implement the transforms here\u001b[0m\u001b[0;34m\u001b[0m\u001b[0;34m\u001b[0m\u001b[0;34m\u001b[0m\u001b[0m\n\u001b[0;32m-> 2289\u001b[0;31m         \u001b[0;32mreturn\u001b[0m \u001b[0mself\u001b[0m\u001b[0;34m.\u001b[0m\u001b[0mlabel_maker\u001b[0m\u001b[0;34m(\u001b[0m\u001b[0mself\u001b[0m\u001b[0;34m)\u001b[0m\u001b[0;34m\u001b[0m\u001b[0;34m\u001b[0m\u001b[0m\n\u001b[0m\u001b[1;32m   2290\u001b[0m \u001b[0;34m\u001b[0m\u001b[0m\n\u001b[1;32m   2291\u001b[0m     \u001b[0;34m@\u001b[0m\u001b[0mproperty\u001b[0m\u001b[0;34m\u001b[0m\u001b[0;34m\u001b[0m\u001b[0m\n",
      "\u001b[0;32m/mnt/c/Users/allen/Desktop/Neuron/pyontutils/neurondm/neurondm/core.py\u001b[0m in \u001b[0;36m__call__\u001b[0;34m(self, neuron)\u001b[0m\n\u001b[1;32m    166\u001b[0m                 \u001b[0;31m# TODO resolve and warn on duplicate phenotypes in the same hierarchy\u001b[0m\u001b[0;34m\u001b[0m\u001b[0;34m\u001b[0m\u001b[0;34m\u001b[0m\u001b[0m\n\u001b[1;32m    167\u001b[0m                 \u001b[0;31m# TODO negative phenotypes\u001b[0m\u001b[0;34m\u001b[0m\u001b[0;34m\u001b[0m\u001b[0;34m\u001b[0m\u001b[0m\n\u001b[0;32m--> 168\u001b[0;31m                 \u001b[0msub_labels\u001b[0m \u001b[0;34m=\u001b[0m \u001b[0mlist\u001b[0m\u001b[0;34m(\u001b[0m\u001b[0mfunction\u001b[0m\u001b[0;34m(\u001b[0m\u001b[0mphenotypes\u001b[0m\u001b[0;34m)\u001b[0m\u001b[0;34m)\u001b[0m\u001b[0;34m\u001b[0m\u001b[0;34m\u001b[0m\u001b[0m\n\u001b[0m\u001b[1;32m    169\u001b[0m                 \u001b[0mlabels\u001b[0m \u001b[0;34m+=\u001b[0m \u001b[0msub_labels\u001b[0m\u001b[0;34m\u001b[0m\u001b[0;34m\u001b[0m\u001b[0m\n\u001b[1;32m    170\u001b[0m \u001b[0;34m\u001b[0m\u001b[0m\n",
      "\u001b[0;32m/mnt/c/Users/allen/Desktop/Neuron/pyontutils/neurondm/neurondm/core.py\u001b[0m in \u001b[0;36mhasExpressionPhenotype\u001b[0;34m(self, phenotypes)\u001b[0m\n\u001b[1;32m    286\u001b[0m     \u001b[0;34m@\u001b[0m\u001b[0mod\u001b[0m\u001b[0;34m\u001b[0m\u001b[0;34m\u001b[0m\u001b[0m\n\u001b[1;32m    287\u001b[0m     \u001b[0;32mdef\u001b[0m \u001b[0mhasExpressionPhenotype\u001b[0m\u001b[0;34m(\u001b[0m\u001b[0mself\u001b[0m\u001b[0;34m,\u001b[0m \u001b[0mphenotypes\u001b[0m\u001b[0;34m)\u001b[0m\u001b[0;34m:\u001b[0m\u001b[0;34m\u001b[0m\u001b[0;34m\u001b[0m\u001b[0m\n\u001b[0;32m--> 288\u001b[0;31m         \u001b[0;32myield\u001b[0m \u001b[0;32mfrom\u001b[0m \u001b[0mself\u001b[0m\u001b[0;34m.\u001b[0m\u001b[0m_plus_minus\u001b[0m\u001b[0;34m(\u001b[0m\u001b[0mphenotypes\u001b[0m\u001b[0;34m)\u001b[0m\u001b[0;34m\u001b[0m\u001b[0;34m\u001b[0m\u001b[0m\n\u001b[0m\u001b[1;32m    289\u001b[0m     \u001b[0;34m@\u001b[0m\u001b[0mod\u001b[0m\u001b[0;34m\u001b[0m\u001b[0;34m\u001b[0m\u001b[0m\n\u001b[1;32m    290\u001b[0m     \u001b[0;32mdef\u001b[0m \u001b[0mhasDriverExpressionPhenotype\u001b[0m\u001b[0;34m(\u001b[0m\u001b[0mself\u001b[0m\u001b[0;34m,\u001b[0m \u001b[0mphenotypes\u001b[0m\u001b[0;34m)\u001b[0m\u001b[0;34m:\u001b[0m\u001b[0;34m\u001b[0m\u001b[0;34m\u001b[0m\u001b[0m\n",
      "\u001b[0;32m/mnt/c/Users/allen/Desktop/Neuron/pyontutils/neurondm/neurondm/core.py\u001b[0m in \u001b[0;36m_plus_minus\u001b[0;34m(self, phenotypes)\u001b[0m\n\u001b[1;32m    277\u001b[0m                 \u001b[0mprefix\u001b[0m \u001b[0;34m=\u001b[0m \u001b[0;34m''\u001b[0m\u001b[0;34m\u001b[0m\u001b[0;34m\u001b[0m\u001b[0m\n\u001b[1;32m    278\u001b[0m \u001b[0;34m\u001b[0m\u001b[0m\n\u001b[0;32m--> 279\u001b[0;31m             \u001b[0;32myield\u001b[0m \u001b[0mprefix\u001b[0m \u001b[0;34m+\u001b[0m \u001b[0mnext\u001b[0m\u001b[0;34m(\u001b[0m\u001b[0mself\u001b[0m\u001b[0;34m.\u001b[0m\u001b[0m_default\u001b[0m\u001b[0;34m(\u001b[0m\u001b[0;34m(\u001b[0m\u001b[0mphenotype\u001b[0m\u001b[0;34m,\u001b[0m\u001b[0;34m)\u001b[0m\u001b[0;34m)\u001b[0m\u001b[0;34m)\u001b[0m\u001b[0;34m\u001b[0m\u001b[0;34m\u001b[0m\u001b[0m\n\u001b[0m\u001b[1;32m    280\u001b[0m     \u001b[0;34m@\u001b[0m\u001b[0mod\u001b[0m\u001b[0;34m\u001b[0m\u001b[0;34m\u001b[0m\u001b[0m\n\u001b[1;32m    281\u001b[0m     \u001b[0;32mdef\u001b[0m \u001b[0mhasMolecularPhenotype\u001b[0m\u001b[0;34m(\u001b[0m\u001b[0mself\u001b[0m\u001b[0;34m,\u001b[0m \u001b[0mphenotypes\u001b[0m\u001b[0;34m)\u001b[0m\u001b[0;34m:\u001b[0m\u001b[0;34m\u001b[0m\u001b[0;34m\u001b[0m\u001b[0m\n",
      "\u001b[0;32m/mnt/c/Users/allen/Desktop/Neuron/pyontutils/neurondm/neurondm/core.py\u001b[0m in \u001b[0;36m_default\u001b[0;34m(self, phenotypes)\u001b[0m\n\u001b[1;32m    179\u001b[0m \u001b[0;34m\u001b[0m\u001b[0m\n\u001b[1;32m    180\u001b[0m     \u001b[0;32mdef\u001b[0m \u001b[0m_default\u001b[0m\u001b[0;34m(\u001b[0m\u001b[0mself\u001b[0m\u001b[0;34m,\u001b[0m \u001b[0mphenotypes\u001b[0m\u001b[0;34m)\u001b[0m\u001b[0;34m:\u001b[0m\u001b[0;34m\u001b[0m\u001b[0;34m\u001b[0m\u001b[0m\n\u001b[0;32m--> 181\u001b[0;31m         \u001b[0;32mfor\u001b[0m \u001b[0mp\u001b[0m \u001b[0;32min\u001b[0m \u001b[0msorted\u001b[0m\u001b[0;34m(\u001b[0m\u001b[0mphenotypes\u001b[0m\u001b[0;34m,\u001b[0m \u001b[0mkey\u001b[0m\u001b[0;34m=\u001b[0m\u001b[0mself\u001b[0m\u001b[0;34m.\u001b[0m\u001b[0m_key\u001b[0m\u001b[0;34m)\u001b[0m\u001b[0;34m:\u001b[0m\u001b[0;34m\u001b[0m\u001b[0;34m\u001b[0m\u001b[0m\n\u001b[0m\u001b[1;32m    182\u001b[0m             \u001b[0;32mif\u001b[0m \u001b[0misinstance\u001b[0m\u001b[0;34m(\u001b[0m\u001b[0mp\u001b[0m\u001b[0;34m,\u001b[0m \u001b[0mNegPhenotype\u001b[0m\u001b[0;34m)\u001b[0m\u001b[0;34m:\u001b[0m\u001b[0;34m\u001b[0m\u001b[0;34m\u001b[0m\u001b[0m\n\u001b[1;32m    183\u001b[0m                 \u001b[0mprefix\u001b[0m \u001b[0;34m=\u001b[0m \u001b[0;34m'-'\u001b[0m\u001b[0;34m\u001b[0m\u001b[0;34m\u001b[0m\u001b[0m\n",
      "\u001b[0;32m/mnt/c/Users/allen/Desktop/Neuron/pyontutils/neurondm/neurondm/core.py\u001b[0m in \u001b[0;36m_key\u001b[0;34m(phen)\u001b[0m\n\u001b[1;32m    147\u001b[0m                 \u001b[0;32mreturn\u001b[0m \u001b[0mself\u001b[0m\u001b[0;34m.\u001b[0m\u001b[0m_convention_lookup\u001b[0m\u001b[0;34m[\u001b[0m\u001b[0mphen\u001b[0m\u001b[0;34m]\u001b[0m\u001b[0;34m\u001b[0m\u001b[0;34m\u001b[0m\u001b[0m\n\u001b[1;32m    148\u001b[0m             \u001b[0;32melse\u001b[0m\u001b[0;34m:\u001b[0m\u001b[0;34m\u001b[0m\u001b[0;34m\u001b[0m\u001b[0m\n\u001b[0;32m--> 149\u001b[0;31m                 \u001b[0;32mreturn\u001b[0m \u001b[0mgetattr\u001b[0m\u001b[0;34m(\u001b[0m\u001b[0mphen\u001b[0m\u001b[0;34m,\u001b[0m \u001b[0mself\u001b[0m\u001b[0;34m.\u001b[0m\u001b[0m_label_property\u001b[0m\u001b[0;34m)\u001b[0m\u001b[0;34m\u001b[0m\u001b[0;34m\u001b[0m\u001b[0m\n\u001b[0m\u001b[1;32m    150\u001b[0m \u001b[0;34m\u001b[0m\u001b[0m\n\u001b[1;32m    151\u001b[0m         \u001b[0mself\u001b[0m\u001b[0;34m.\u001b[0m\u001b[0m_key\u001b[0m \u001b[0;34m=\u001b[0m \u001b[0m_key\u001b[0m\u001b[0;34m\u001b[0m\u001b[0;34m\u001b[0m\u001b[0m\n",
      "\u001b[0;32m/mnt/c/Users/allen/Desktop/Neuron/pyontutils/neurondm/neurondm/core.py\u001b[0m in \u001b[0;36mpName\u001b[0;34m(self)\u001b[0m\n\u001b[1;32m   1623\u001b[0m     \u001b[0;34m@\u001b[0m\u001b[0mproperty\u001b[0m\u001b[0;34m\u001b[0m\u001b[0;34m\u001b[0m\u001b[0m\n\u001b[1;32m   1624\u001b[0m     \u001b[0;32mdef\u001b[0m \u001b[0mpName\u001b[0m\u001b[0;34m(\u001b[0m\u001b[0mself\u001b[0m\u001b[0;34m)\u001b[0m\u001b[0;34m:\u001b[0m\u001b[0;34m\u001b[0m\u001b[0;34m\u001b[0m\u001b[0m\n\u001b[0;32m-> 1625\u001b[0;31m         \u001b[0mname\u001b[0m \u001b[0;34m=\u001b[0m \u001b[0mself\u001b[0m\u001b[0;34m.\u001b[0m\u001b[0mpShortName\u001b[0m\u001b[0;34m\u001b[0m\u001b[0;34m\u001b[0m\u001b[0m\n\u001b[0m\u001b[1;32m   1626\u001b[0m         \u001b[0;32mreturn\u001b[0m \u001b[0mname\u001b[0m \u001b[0;32mif\u001b[0m \u001b[0mname\u001b[0m \u001b[0;32melse\u001b[0m \u001b[0mself\u001b[0m\u001b[0;34m.\u001b[0m\u001b[0mpLongName\u001b[0m\u001b[0;34m\u001b[0m\u001b[0;34m\u001b[0m\u001b[0m\n\u001b[1;32m   1627\u001b[0m \u001b[0;34m\u001b[0m\u001b[0m\n",
      "\u001b[0;32m/mnt/c/Users/allen/Desktop/Neuron/pyontutils/pyontutils/utils.py\u001b[0m in \u001b[0;36minner\u001b[0;34m(self, *args, **kwargs)\u001b[0m\n\u001b[1;32m    221\u001b[0m     \u001b[0;34m@\u001b[0m\u001b[0mwraps\u001b[0m\u001b[0;34m(\u001b[0m\u001b[0mfunction\u001b[0m\u001b[0;34m)\u001b[0m\u001b[0;34m\u001b[0m\u001b[0;34m\u001b[0m\u001b[0m\n\u001b[1;32m    222\u001b[0m     \u001b[0;32mdef\u001b[0m \u001b[0minner\u001b[0m\u001b[0;34m(\u001b[0m\u001b[0mself\u001b[0m\u001b[0;34m,\u001b[0m \u001b[0;34m*\u001b[0m\u001b[0margs\u001b[0m\u001b[0;34m,\u001b[0m \u001b[0;34m**\u001b[0m\u001b[0mkwargs\u001b[0m\u001b[0;34m)\u001b[0m\u001b[0;34m:\u001b[0m\u001b[0;34m\u001b[0m\u001b[0;34m\u001b[0m\u001b[0m\n\u001b[0;32m--> 223\u001b[0;31m         \u001b[0mout\u001b[0m \u001b[0;34m=\u001b[0m \u001b[0mfunction\u001b[0m\u001b[0;34m(\u001b[0m\u001b[0mself\u001b[0m\u001b[0;34m,\u001b[0m \u001b[0;34m*\u001b[0m\u001b[0margs\u001b[0m\u001b[0;34m,\u001b[0m \u001b[0;34m**\u001b[0m\u001b[0mkwargs\u001b[0m\u001b[0;34m)\u001b[0m\u001b[0;34m\u001b[0m\u001b[0;34m\u001b[0m\u001b[0m\n\u001b[0m\u001b[1;32m    224\u001b[0m         \u001b[0;32mif\u001b[0m \u001b[0;32mnot\u001b[0m \u001b[0mhasattr\u001b[0m\u001b[0;34m(\u001b[0m\u001b[0mself\u001b[0m\u001b[0;34m,\u001b[0m \u001b[0mcacheout_done_name\u001b[0m\u001b[0;34m)\u001b[0m\u001b[0;34m:\u001b[0m\u001b[0;34m\u001b[0m\u001b[0;34m\u001b[0m\u001b[0m\n\u001b[1;32m    225\u001b[0m             \u001b[0msetattr\u001b[0m\u001b[0;34m(\u001b[0m\u001b[0mself\u001b[0m\u001b[0;34m,\u001b[0m \u001b[0mname\u001b[0m\u001b[0;34m,\u001b[0m \u001b[0mout\u001b[0m\u001b[0;34m)\u001b[0m\u001b[0;34m\u001b[0m\u001b[0;34m\u001b[0m\u001b[0m\n",
      "\u001b[0;32m/mnt/c/Users/allen/Desktop/Neuron/pyontutils/neurondm/neurondm/core.py\u001b[0m in \u001b[0;36mpShortName\u001b[0;34m(self)\u001b[0m\n\u001b[1;32m   1535\u001b[0m                 \u001b[0;32mreturn\u001b[0m \u001b[0minj\u001b[0m\u001b[0;34m[\u001b[0m\u001b[0mself\u001b[0m\u001b[0;34m]\u001b[0m\u001b[0;34m\u001b[0m\u001b[0;34m\u001b[0m\u001b[0m\n\u001b[1;32m   1536\u001b[0m \u001b[0;34m\u001b[0m\u001b[0m\n\u001b[0;32m-> 1537\u001b[0;31m         \u001b[0mpn\u001b[0m \u001b[0;34m=\u001b[0m \u001b[0mself\u001b[0m\u001b[0;34m.\u001b[0m\u001b[0min_graph\u001b[0m\u001b[0;34m.\u001b[0m\u001b[0mnamespace_manager\u001b[0m\u001b[0;34m.\u001b[0m\u001b[0mqname\u001b[0m\u001b[0;34m(\u001b[0m\u001b[0mself\u001b[0m\u001b[0;34m.\u001b[0m\u001b[0mp\u001b[0m\u001b[0;34m)\u001b[0m\u001b[0;34m\u001b[0m\u001b[0;34m\u001b[0m\u001b[0m\n\u001b[0m\u001b[1;32m   1538\u001b[0m         \u001b[0;32mtry\u001b[0m\u001b[0;34m:\u001b[0m\u001b[0;34m\u001b[0m\u001b[0;34m\u001b[0m\u001b[0m\n\u001b[1;32m   1539\u001b[0m             \u001b[0mresp\u001b[0m \u001b[0;34m=\u001b[0m \u001b[0mself\u001b[0m\u001b[0;34m.\u001b[0m\u001b[0m_sgv\u001b[0m\u001b[0;34m.\u001b[0m\u001b[0mfindById\u001b[0m\u001b[0;34m(\u001b[0m\u001b[0mpn\u001b[0m\u001b[0;34m)\u001b[0m\u001b[0;34m\u001b[0m\u001b[0;34m\u001b[0m\u001b[0m\n",
      "\u001b[0;32m/mnt/c/Users/allen/Desktop/Neuron/pyontutils/pyontutils/core.py\u001b[0m in \u001b[0;36mqname\u001b[0;34m(self, iri)\u001b[0m\n\u001b[1;32m    676\u001b[0m \u001b[0;34m\u001b[0m\u001b[0m\n\u001b[1;32m    677\u001b[0m     \u001b[0;32mdef\u001b[0m \u001b[0mqname\u001b[0m\u001b[0;34m(\u001b[0m\u001b[0mself\u001b[0m\u001b[0;34m,\u001b[0m \u001b[0miri\u001b[0m\u001b[0;34m)\u001b[0m\u001b[0;34m:\u001b[0m\u001b[0;34m\u001b[0m\u001b[0;34m\u001b[0m\u001b[0m\n\u001b[0;32m--> 678\u001b[0;31m         \u001b[0mprefix\u001b[0m\u001b[0;34m,\u001b[0m \u001b[0mnamespace\u001b[0m\u001b[0;34m,\u001b[0m \u001b[0mname\u001b[0m \u001b[0;34m=\u001b[0m \u001b[0mself\u001b[0m\u001b[0;34m.\u001b[0m\u001b[0mcompute_qname\u001b[0m\u001b[0;34m(\u001b[0m\u001b[0miri\u001b[0m\u001b[0;34m,\u001b[0m \u001b[0mgenerate\u001b[0m\u001b[0;34m=\u001b[0m\u001b[0;32mFalse\u001b[0m\u001b[0;34m)\u001b[0m\u001b[0;34m\u001b[0m\u001b[0;34m\u001b[0m\u001b[0m\n\u001b[0m\u001b[1;32m    679\u001b[0m         \u001b[0;32mif\u001b[0m \u001b[0mprefix\u001b[0m \u001b[0;34m==\u001b[0m \u001b[0;34m\"\"\u001b[0m\u001b[0;34m:\u001b[0m\u001b[0;34m\u001b[0m\u001b[0;34m\u001b[0m\u001b[0m\n\u001b[1;32m    680\u001b[0m             \u001b[0;32mreturn\u001b[0m \u001b[0mname\u001b[0m\u001b[0;34m\u001b[0m\u001b[0;34m\u001b[0m\u001b[0m\n",
      "\u001b[0;32m~/miniconda3/envs/neuron/lib/python3.7/site-packages/rdflib/namespace.py\u001b[0m in \u001b[0;36mcompute_qname\u001b[0;34m(self, uri, generate)\u001b[0m\n\u001b[1;32m    328\u001b[0m \u001b[0;34m\u001b[0m\u001b[0m\n\u001b[1;32m    329\u001b[0m         \u001b[0;32mif\u001b[0m \u001b[0;32mnot\u001b[0m \u001b[0muri\u001b[0m \u001b[0;32min\u001b[0m \u001b[0mself\u001b[0m\u001b[0;34m.\u001b[0m\u001b[0m__cache\u001b[0m\u001b[0;34m:\u001b[0m\u001b[0;34m\u001b[0m\u001b[0;34m\u001b[0m\u001b[0m\n\u001b[0;32m--> 330\u001b[0;31m             \u001b[0mnamespace\u001b[0m\u001b[0;34m,\u001b[0m \u001b[0mname\u001b[0m \u001b[0;34m=\u001b[0m \u001b[0msplit_uri\u001b[0m\u001b[0;34m(\u001b[0m\u001b[0muri\u001b[0m\u001b[0;34m)\u001b[0m\u001b[0;34m\u001b[0m\u001b[0;34m\u001b[0m\u001b[0m\n\u001b[0m\u001b[1;32m    331\u001b[0m             \u001b[0mnamespace\u001b[0m \u001b[0;34m=\u001b[0m \u001b[0mURIRef\u001b[0m\u001b[0;34m(\u001b[0m\u001b[0mnamespace\u001b[0m\u001b[0;34m)\u001b[0m\u001b[0;34m\u001b[0m\u001b[0;34m\u001b[0m\u001b[0m\n\u001b[1;32m    332\u001b[0m             \u001b[0mprefix\u001b[0m \u001b[0;34m=\u001b[0m \u001b[0mself\u001b[0m\u001b[0;34m.\u001b[0m\u001b[0mstore\u001b[0m\u001b[0;34m.\u001b[0m\u001b[0mprefix\u001b[0m\u001b[0;34m(\u001b[0m\u001b[0mnamespace\u001b[0m\u001b[0;34m)\u001b[0m\u001b[0;34m\u001b[0m\u001b[0;34m\u001b[0m\u001b[0m\n",
      "\u001b[0;32m~/miniconda3/envs/neuron/lib/python3.7/site-packages/rdflib/namespace.py\u001b[0m in \u001b[0;36msplit_uri\u001b[0;34m(uri)\u001b[0m\n\u001b[1;32m    500\u001b[0m                     \u001b[0;32mreturn\u001b[0m \u001b[0;34m(\u001b[0m\u001b[0mns\u001b[0m\u001b[0;34m,\u001b[0m \u001b[0mln\u001b[0m\u001b[0;34m)\u001b[0m\u001b[0;34m\u001b[0m\u001b[0;34m\u001b[0m\u001b[0m\n\u001b[1;32m    501\u001b[0m             \u001b[0;32mbreak\u001b[0m\u001b[0;34m\u001b[0m\u001b[0;34m\u001b[0m\u001b[0m\n\u001b[0;32m--> 502\u001b[0;31m     \u001b[0;32mraise\u001b[0m \u001b[0mException\u001b[0m\u001b[0;34m(\u001b[0m\u001b[0;34m\"Can't split '%s'\"\u001b[0m \u001b[0;34m%\u001b[0m \u001b[0muri\u001b[0m\u001b[0;34m)\u001b[0m\u001b[0;34m\u001b[0m\u001b[0;34m\u001b[0m\u001b[0m\n\u001b[0m",
      "\u001b[0;31mException\u001b[0m: Can't split 'http://www.ncbi.nlm.nih.gov/gene/19293'"
     ]
    }
   ],
   "source": [
    "%load_ext autoreload\n",
    "%autoreload 1\n",
    "%aimport tasic2015"
   ]
  },
  {
   "cell_type": "code",
   "execution_count": 7,
   "metadata": {},
   "outputs": [],
   "source": [
    "def cellguard(addns=False):\n",
    "    # unfortunately ipy.hooks['pre_run_code_hook'].add(__cellguard)\n",
    "    # causes this to be called too frequently :/\n",
    "    setLocalNames()\n",
    "    setLocalContext()\n",
    "    if addns:\n",
    "        setLocalNames(phns.BBP)"
   ]
  },
  {
   "cell_type": "code",
   "execution_count": 8,
   "metadata": {},
   "outputs": [],
   "source": [
    "df_clf = pd.read_csv('Data/cell_classification.csv')\n",
    "df_cls_mtd = pd.read_csv('Data/cluster_metadata.csv')\n",
    "df_cell_mtd = pd.read_csv('Data/cell_metadata.csv')\n",
    "\n",
    "df_cre_mtd  = pd.read_excel('Data/tasic_crelines.xlsx')\n",
    "\n",
    "dendro = pd.read_csv(\"Data/web/big_tree_final.csv\", dtype = {'position':str})"
   ]
  },
  {
   "cell_type": "code",
   "execution_count": 11,
   "metadata": {
    "scrolled": true
   },
   "outputs": [
    {
     "data": {
      "text/html": [
       "<div>\n",
       "<style scoped>\n",
       "    .dataframe tbody tr th:only-of-type {\n",
       "        vertical-align: middle;\n",
       "    }\n",
       "\n",
       "    .dataframe tbody tr th {\n",
       "        vertical-align: top;\n",
       "    }\n",
       "\n",
       "    .dataframe thead th {\n",
       "        text-align: right;\n",
       "    }\n",
       "</style>\n",
       "<table border=\"1\" class=\"dataframe\">\n",
       "  <thead>\n",
       "    <tr style=\"text-align: right;\">\n",
       "      <th></th>\n",
       "      <th>Unnamed: 0</th>\n",
       "      <th>coretype</th>\n",
       "      <th>primary</th>\n",
       "      <th>secondary</th>\n",
       "      <th>f01</th>\n",
       "      <th>f02</th>\n",
       "      <th>f03</th>\n",
       "      <th>f04</th>\n",
       "      <th>f05</th>\n",
       "      <th>f06</th>\n",
       "      <th>...</th>\n",
       "      <th>f40</th>\n",
       "      <th>f41</th>\n",
       "      <th>f42</th>\n",
       "      <th>f43</th>\n",
       "      <th>f44</th>\n",
       "      <th>f45</th>\n",
       "      <th>f46</th>\n",
       "      <th>f47</th>\n",
       "      <th>f48</th>\n",
       "      <th>f49</th>\n",
       "    </tr>\n",
       "  </thead>\n",
       "  <tbody>\n",
       "    <tr>\n",
       "      <td>0</td>\n",
       "      <td>A200_V</td>\n",
       "      <td>Core</td>\n",
       "      <td>f01</td>\n",
       "      <td>0</td>\n",
       "      <td>10</td>\n",
       "      <td>0</td>\n",
       "      <td>0</td>\n",
       "      <td>0</td>\n",
       "      <td>0</td>\n",
       "      <td>0</td>\n",
       "      <td>...</td>\n",
       "      <td>0</td>\n",
       "      <td>0</td>\n",
       "      <td>0</td>\n",
       "      <td>0</td>\n",
       "      <td>0</td>\n",
       "      <td>0</td>\n",
       "      <td>0</td>\n",
       "      <td>0</td>\n",
       "      <td>0</td>\n",
       "      <td>0</td>\n",
       "    </tr>\n",
       "    <tr>\n",
       "      <td>1</td>\n",
       "      <td>A201_V</td>\n",
       "      <td>Core</td>\n",
       "      <td>f02</td>\n",
       "      <td>0</td>\n",
       "      <td>0</td>\n",
       "      <td>10</td>\n",
       "      <td>0</td>\n",
       "      <td>0</td>\n",
       "      <td>0</td>\n",
       "      <td>0</td>\n",
       "      <td>...</td>\n",
       "      <td>0</td>\n",
       "      <td>0</td>\n",
       "      <td>0</td>\n",
       "      <td>0</td>\n",
       "      <td>0</td>\n",
       "      <td>0</td>\n",
       "      <td>0</td>\n",
       "      <td>0</td>\n",
       "      <td>0</td>\n",
       "      <td>0</td>\n",
       "    </tr>\n",
       "    <tr>\n",
       "      <td>2</td>\n",
       "      <td>A202_V</td>\n",
       "      <td>Core</td>\n",
       "      <td>f24</td>\n",
       "      <td>0</td>\n",
       "      <td>0</td>\n",
       "      <td>0</td>\n",
       "      <td>0</td>\n",
       "      <td>0</td>\n",
       "      <td>0</td>\n",
       "      <td>0</td>\n",
       "      <td>...</td>\n",
       "      <td>0</td>\n",
       "      <td>0</td>\n",
       "      <td>0</td>\n",
       "      <td>0</td>\n",
       "      <td>0</td>\n",
       "      <td>0</td>\n",
       "      <td>0</td>\n",
       "      <td>0</td>\n",
       "      <td>0</td>\n",
       "      <td>0</td>\n",
       "    </tr>\n",
       "  </tbody>\n",
       "</table>\n",
       "<p>3 rows × 53 columns</p>\n",
       "</div>"
      ],
      "text/plain": [
       "  Unnamed: 0 coretype primary secondary  f01  f02  f03  f04  f05  f06  ...  \\\n",
       "0     A200_V     Core     f01         0   10    0    0    0    0    0  ...   \n",
       "1     A201_V     Core     f02         0    0   10    0    0    0    0  ...   \n",
       "2     A202_V     Core     f24         0    0    0    0    0    0    0  ...   \n",
       "\n",
       "   f40  f41  f42  f43  f44  f45  f46  f47  f48  f49  \n",
       "0    0    0    0    0    0    0    0    0    0    0  \n",
       "1    0    0    0    0    0    0    0    0    0    0  \n",
       "2    0    0    0    0    0    0    0    0    0    0  \n",
       "\n",
       "[3 rows x 53 columns]"
      ]
     },
     "execution_count": 11,
     "metadata": {},
     "output_type": "execute_result"
    }
   ],
   "source": [
    "\"\"\"\n",
    "Information about the cluster membership of each cell,\n",
    "including whether the cell is a \"core\" (unambiguously assigned to a single cluster) \n",
    "or \"transition\" (shares membership between two clusters) cell, \n",
    "as well as its membership score (from 0-10) for each cluster (labeled f01 to f49). \n",
    "\"\"\"\n",
    "df_clf.head(3)\n",
    "#TODO: Only including unambiguous cells with f-values = 10 for one cluster only."
   ]
  },
  {
   "cell_type": "code",
   "execution_count": 12,
   "metadata": {
    "scrolled": false
   },
   "outputs": [
    {
     "data": {
      "text/html": [
       "<div>\n",
       "<style scoped>\n",
       "    .dataframe tbody tr th:only-of-type {\n",
       "        vertical-align: middle;\n",
       "    }\n",
       "\n",
       "    .dataframe tbody tr th {\n",
       "        vertical-align: top;\n",
       "    }\n",
       "\n",
       "    .dataframe thead th {\n",
       "        text-align: right;\n",
       "    }\n",
       "</style>\n",
       "<table border=\"1\" class=\"dataframe\">\n",
       "  <thead>\n",
       "    <tr style=\"text-align: right;\">\n",
       "      <th></th>\n",
       "      <th>cluster_order</th>\n",
       "      <th>cluster_id</th>\n",
       "      <th>vignette_label</th>\n",
       "      <th>vignette_color</th>\n",
       "      <th>group</th>\n",
       "      <th>markers_present</th>\n",
       "      <th>markers_sparse</th>\n",
       "      <th>genes_absent</th>\n",
       "      <th>Tasic_et_al_2016_label</th>\n",
       "      <th>Unnamed: 9</th>\n",
       "    </tr>\n",
       "  </thead>\n",
       "  <tbody>\n",
       "    <tr>\n",
       "      <td>0</td>\n",
       "      <td>7</td>\n",
       "      <td>f01</td>\n",
       "      <td>Vip Mybpc1</td>\n",
       "      <td>#BB36BF</td>\n",
       "      <td>Vip</td>\n",
       "      <td>Crispld2, Cxcl14, Tpm2, Itih5, Cox6a2</td>\n",
       "      <td>Tmem182</td>\n",
       "      <td>Npy2r, Sorl1, Car4</td>\n",
       "      <td>Vip Mybpc1</td>\n",
       "      <td>NaN</td>\n",
       "    </tr>\n",
       "    <tr>\n",
       "      <td>1</td>\n",
       "      <td>6</td>\n",
       "      <td>f02</td>\n",
       "      <td>Vip Cxcl14_Car4</td>\n",
       "      <td>#C994C7</td>\n",
       "      <td>Vip</td>\n",
       "      <td>Cxcl14, Car4, Tac2</td>\n",
       "      <td>Dmp1, Syt10</td>\n",
       "      <td>Mybpc1, Npy2r, Slc44a5</td>\n",
       "      <td>Vip Parm1</td>\n",
       "      <td>NaN</td>\n",
       "    </tr>\n",
       "    <tr>\n",
       "      <td>2</td>\n",
       "      <td>8</td>\n",
       "      <td>f03</td>\n",
       "      <td>Vip Sncg</td>\n",
       "      <td>#9400E2</td>\n",
       "      <td>Vip</td>\n",
       "      <td>Reln, Npy2r, Tnfaip8l3, Cadps2, 2310042E22Rik,...</td>\n",
       "      <td>Casq2, Edn3</td>\n",
       "      <td>NaN</td>\n",
       "      <td>Vip Sncg</td>\n",
       "      <td>NaN</td>\n",
       "    </tr>\n",
       "  </tbody>\n",
       "</table>\n",
       "</div>"
      ],
      "text/plain": [
       "   cluster_order cluster_id   vignette_label vignette_color group  \\\n",
       "0              7        f01       Vip Mybpc1        #BB36BF   Vip   \n",
       "1              6        f02  Vip Cxcl14_Car4        #C994C7   Vip   \n",
       "2              8        f03         Vip Sncg        #9400E2   Vip   \n",
       "\n",
       "                                     markers_present markers_sparse  \\\n",
       "0              Crispld2, Cxcl14, Tpm2, Itih5, Cox6a2        Tmem182   \n",
       "1                                 Cxcl14, Car4, Tac2    Dmp1, Syt10   \n",
       "2  Reln, Npy2r, Tnfaip8l3, Cadps2, 2310042E22Rik,...    Casq2, Edn3   \n",
       "\n",
       "             genes_absent Tasic_et_al_2016_label  Unnamed: 9  \n",
       "0      Npy2r, Sorl1, Car4             Vip Mybpc1         NaN  \n",
       "1  Mybpc1, Npy2r, Slc44a5              Vip Parm1         NaN  \n",
       "2                     NaN               Vip Sncg         NaN  "
      ]
     },
     "execution_count": 12,
     "metadata": {},
     "output_type": "execute_result"
    }
   ],
   "source": [
    "\"\"\"\n",
    " Information about each data-driven cluster, including its label, \n",
    " the corresponding label in Tasic et al. (Nat. Neuro, 2106), the primary cell class \n",
    " membership, and marker genes (including genes with widespread expression in the cluster, \n",
    " sparse expression in the cluster, and no expression in the cluster). \n",
    "\"\"\"\n",
    "df_cls_mtd.head(3)"
   ]
  },
  {
   "cell_type": "code",
   "execution_count": 13,
   "metadata": {
    "scrolled": false
   },
   "outputs": [
    {
     "data": {
      "text/html": [
       "<div>\n",
       "<style scoped>\n",
       "    .dataframe tbody tr th:only-of-type {\n",
       "        vertical-align: middle;\n",
       "    }\n",
       "\n",
       "    .dataframe tbody tr th {\n",
       "        vertical-align: top;\n",
       "    }\n",
       "\n",
       "    .dataframe thead th {\n",
       "        text-align: right;\n",
       "    }\n",
       "</style>\n",
       "<table border=\"1\" class=\"dataframe\">\n",
       "  <thead>\n",
       "    <tr style=\"text-align: right;\">\n",
       "      <th></th>\n",
       "      <th>long_name</th>\n",
       "      <th>cre</th>\n",
       "      <th>collection_date</th>\n",
       "      <th>sequencing_type</th>\n",
       "      <th>total_reads</th>\n",
       "      <th>all_mapped_percent</th>\n",
       "      <th>mRNA_percent</th>\n",
       "      <th>genome_percent</th>\n",
       "      <th>ercc_percent</th>\n",
       "      <th>tdt_permillion</th>\n",
       "      <th>major_class</th>\n",
       "      <th>sub_class</th>\n",
       "      <th>major_dissection</th>\n",
       "      <th>layer_dissectoin</th>\n",
       "      <th>color_code</th>\n",
       "      <th>short_name</th>\n",
       "    </tr>\n",
       "  </thead>\n",
       "  <tbody>\n",
       "    <tr>\n",
       "      <td>0</td>\n",
       "      <td>A01101401</td>\n",
       "      <td>Calb2</td>\n",
       "      <td>11/18/2013</td>\n",
       "      <td>hiseq</td>\n",
       "      <td>23770190</td>\n",
       "      <td>93.50</td>\n",
       "      <td>54.43</td>\n",
       "      <td>30.08</td>\n",
       "      <td>4.36</td>\n",
       "      <td>306.1</td>\n",
       "      <td>Inhibitory</td>\n",
       "      <td>Vip</td>\n",
       "      <td>V1</td>\n",
       "      <td>All</td>\n",
       "      <td>11</td>\n",
       "      <td>A200_V</td>\n",
       "    </tr>\n",
       "    <tr>\n",
       "      <td>1</td>\n",
       "      <td>A01101402</td>\n",
       "      <td>Calb2</td>\n",
       "      <td>11/18/2013</td>\n",
       "      <td>hiseq</td>\n",
       "      <td>9694719</td>\n",
       "      <td>92.86</td>\n",
       "      <td>45.69</td>\n",
       "      <td>35.45</td>\n",
       "      <td>7.84</td>\n",
       "      <td>341.2</td>\n",
       "      <td>Inhibitory</td>\n",
       "      <td>Vip</td>\n",
       "      <td>V1</td>\n",
       "      <td>All</td>\n",
       "      <td>11</td>\n",
       "      <td>A201_V</td>\n",
       "    </tr>\n",
       "    <tr>\n",
       "      <td>2</td>\n",
       "      <td>A01101403</td>\n",
       "      <td>Calb2</td>\n",
       "      <td>11/18/2013</td>\n",
       "      <td>hiseq</td>\n",
       "      <td>5864322</td>\n",
       "      <td>90.55</td>\n",
       "      <td>48.30</td>\n",
       "      <td>34.01</td>\n",
       "      <td>4.12</td>\n",
       "      <td>106.2</td>\n",
       "      <td>Excitatory</td>\n",
       "      <td>L4</td>\n",
       "      <td>V1</td>\n",
       "      <td>All</td>\n",
       "      <td>11</td>\n",
       "      <td>A202_V</td>\n",
       "    </tr>\n",
       "  </tbody>\n",
       "</table>\n",
       "</div>"
      ],
      "text/plain": [
       "   long_name    cre collection_date sequencing_type  total_reads  \\\n",
       "0  A01101401  Calb2      11/18/2013           hiseq     23770190   \n",
       "1  A01101402  Calb2      11/18/2013           hiseq      9694719   \n",
       "2  A01101403  Calb2      11/18/2013           hiseq      5864322   \n",
       "\n",
       "   all_mapped_percent  mRNA_percent  genome_percent  ercc_percent  \\\n",
       "0               93.50         54.43           30.08          4.36   \n",
       "1               92.86         45.69           35.45          7.84   \n",
       "2               90.55         48.30           34.01          4.12   \n",
       "\n",
       "   tdt_permillion major_class sub_class major_dissection layer_dissectoin  \\\n",
       "0           306.1  Inhibitory       Vip               V1              All   \n",
       "1           341.2  Inhibitory       Vip               V1              All   \n",
       "2           106.2  Excitatory        L4               V1              All   \n",
       "\n",
       "   color_code short_name  \n",
       "0          11     A200_V  \n",
       "1          11     A201_V  \n",
       "2          11     A202_V  "
      ]
     },
     "execution_count": 13,
     "metadata": {},
     "output_type": "execute_result"
    }
   ],
   "source": [
    "\"\"\"\n",
    "Information about each cell profiled, including its nomenclature, \n",
    "Cre line of origin, dissection, date of collection and sequencing, \n",
    "and read mapping statistics\n",
    "\"\"\"\n",
    "df_cell_mtd.head(3)"
   ]
  },
  {
   "cell_type": "code",
   "execution_count": 14,
   "metadata": {},
   "outputs": [
    {
     "data": {
      "text/plain": [
       "Core          1424\n",
       "Transition     255\n",
       "Name: coretype, dtype: int64"
      ]
     },
     "execution_count": 14,
     "metadata": {},
     "output_type": "execute_result"
    }
   ],
   "source": [
    "df_clf['coretype'].value_counts()"
   ]
  },
  {
   "cell_type": "code",
   "execution_count": 15,
   "metadata": {},
   "outputs": [
    {
     "data": {
      "text/plain": [
       "All      702\n",
       "L4       224\n",
       "upper    179\n",
       "lower    144\n",
       "L5       143\n",
       "L6a      112\n",
       "L2/3      63\n",
       "L6b       41\n",
       "L1        38\n",
       "L6        33\n",
       "Name: layer_dissectoin, dtype: int64"
      ]
     },
     "execution_count": 15,
     "metadata": {},
     "output_type": "execute_result"
    }
   ],
   "source": [
    "df_cell_mtd['layer_dissectoin'].value_counts()"
   ]
  },
  {
   "cell_type": "code",
   "execution_count": 16,
   "metadata": {
    "scrolled": true
   },
   "outputs": [
    {
     "data": {
      "text/plain": [
       "Rbp4              173\n",
       "Htr3a             123\n",
       "Cux2              122\n",
       "Sst               107\n",
       "Scnn1a-Tg3         99\n",
       "Pvalb              89\n",
       "PvalbF-Gad2        87\n",
       "Chrna2             84\n",
       "Gad2               77\n",
       "Ntsr1              77\n",
       "Nos1               72\n",
       "Vip                68\n",
       "Calb2              64\n",
       "Ntsr1 Neg          55\n",
       "Rorb               54\n",
       "Nr5a1              48\n",
       "Slc17a6            47\n",
       "PvalbD-Slc32a1     44\n",
       "Ctgf               23\n",
       "Scnn1a-Tg3 Neg     23\n",
       "Rbp4 Neg           23\n",
       "Nkx2-1             22\n",
       "Scnn1a-Tg2         20\n",
       "Ndnf               19\n",
       "Scnn1a-Tg2 Neg     18\n",
       "Cux2 Neg           15\n",
       "Ndnf Neg           12\n",
       "Tac2                8\n",
       "Chat                6\n",
       "Name: cre, dtype: int64"
      ]
     },
     "execution_count": 16,
     "metadata": {},
     "output_type": "execute_result"
    }
   ],
   "source": [
    "df_cell_mtd['cre'].value_counts()"
   ]
  },
  {
   "cell_type": "code",
   "execution_count": 17,
   "metadata": {},
   "outputs": [],
   "source": [
    "df_clf.rename(index=str, columns={\"Unnamed: 0\":\"cell_index\"}, inplace = True)\n",
    "df_clf = df_clf[['cell_index','coretype', 'primary', 'secondary']]\n",
    "\n",
    "#Reorder and drop columns that are not interesting\n",
    "df_cell_mtd = df_cell_mtd[['short_name','cre','major_class','sub_class',\n",
    "                           'major_dissection', 'layer_dissectoin']]\n",
    "df_cls_mtd = df_cls_mtd[['cluster_id','cluster_order','vignette_label',\n",
    "                         'group','markers_present','markers_sparse',\n",
    "                         'genes_absent','Tasic_et_al_2016_label']]\n",
    "\n",
    "df_cls_mtd['cluster_id'] = df_cls_mtd['cluster_id'].astype(str)\n",
    "\n",
    "#merge\n",
    "df_types = df_cell_mtd.merge(df_clf, left_on='short_name', right_on='cell_index')\n",
    "df_types = df_types[['short_name', 'coretype', 'primary', 'secondary',\n",
    "                     'cre','major_dissection', 'layer_dissectoin']]"
   ]
  },
  {
   "cell_type": "code",
   "execution_count": 19,
   "metadata": {},
   "outputs": [
    {
     "data": {
      "text/html": [
       "<div>\n",
       "<style scoped>\n",
       "    .dataframe tbody tr th:only-of-type {\n",
       "        vertical-align: middle;\n",
       "    }\n",
       "\n",
       "    .dataframe tbody tr th {\n",
       "        vertical-align: top;\n",
       "    }\n",
       "\n",
       "    .dataframe thead th {\n",
       "        text-align: right;\n",
       "    }\n",
       "</style>\n",
       "<table border=\"1\" class=\"dataframe\">\n",
       "  <thead>\n",
       "    <tr style=\"text-align: right;\">\n",
       "      <th></th>\n",
       "      <th>#</th>\n",
       "      <th>Driver Line</th>\n",
       "      <th>Abbreviation</th>\n",
       "      <th>Originating Lab (Donating Investigator)</th>\n",
       "      <th>Primary Reference</th>\n",
       "      <th>Generation Method</th>\n",
       "      <th>Generation Method, more detail</th>\n",
       "      <th>Public Repository</th>\n",
       "      <th>Public Repository Stock #</th>\n",
       "      <th>Repository Strain Name</th>\n",
       "      <th>Data available through the Allen Institute Transgenic Portal</th>\n",
       "    </tr>\n",
       "  </thead>\n",
       "  <tbody>\n",
       "    <tr>\n",
       "      <td>0</td>\n",
       "      <td>1.0</td>\n",
       "      <td>Calb2-IRES-Cre</td>\n",
       "      <td>Calb2</td>\n",
       "      <td>Z. Josh Huang</td>\n",
       "      <td>Taniguchi et al., Neuron 2011</td>\n",
       "      <td>Knock-in</td>\n",
       "      <td>IRES</td>\n",
       "      <td>The Jackson Laboratory</td>\n",
       "      <td>10774.0</td>\n",
       "      <td>B6(Cg)-Calb2tm1(cre)Zjh/J</td>\n",
       "      <td>http://connectivity.brain-map.org/transgenic/s...</td>\n",
       "    </tr>\n",
       "    <tr>\n",
       "      <td>1</td>\n",
       "      <td>2.0</td>\n",
       "      <td>Chat-IRES-Cre</td>\n",
       "      <td>Chat</td>\n",
       "      <td>Brad Lowell</td>\n",
       "      <td>Rossi et al., Cell Metab. 2011</td>\n",
       "      <td>Knock-in</td>\n",
       "      <td>IRES</td>\n",
       "      <td>The Jackson Laboratory</td>\n",
       "      <td>6410.0</td>\n",
       "      <td>B6;129S6-Chattm1(cre)Lowl/J</td>\n",
       "      <td>http://connectivity.brain-map.org/transgenic/s...</td>\n",
       "    </tr>\n",
       "    <tr>\n",
       "      <td>2</td>\n",
       "      <td>3.0</td>\n",
       "      <td>Chrna2-Cre_OE25</td>\n",
       "      <td>Chrna2</td>\n",
       "      <td>Nathaniel Heintz and Charles Gerfen</td>\n",
       "      <td>Gerfen et al., Neuron 2013</td>\n",
       "      <td>Transgenic</td>\n",
       "      <td>BAC</td>\n",
       "      <td>MMRRC</td>\n",
       "      <td>36502.0</td>\n",
       "      <td>STOCK Tg(Chrna2-cre)OE25Gsat/Mmucd</td>\n",
       "      <td>http://connectivity.brain-map.org/transgenic/s...</td>\n",
       "    </tr>\n",
       "  </tbody>\n",
       "</table>\n",
       "</div>"
      ],
      "text/plain": [
       "     #      Driver Line Abbreviation Originating Lab (Donating Investigator)  \\\n",
       "0  1.0   Calb2-IRES-Cre        Calb2                           Z. Josh Huang   \n",
       "1  2.0    Chat-IRES-Cre         Chat                             Brad Lowell   \n",
       "2  3.0  Chrna2-Cre_OE25       Chrna2     Nathaniel Heintz and Charles Gerfen   \n",
       "\n",
       "                Primary Reference Generation Method  \\\n",
       "0   Taniguchi et al., Neuron 2011          Knock-in   \n",
       "1  Rossi et al., Cell Metab. 2011          Knock-in   \n",
       "2      Gerfen et al., Neuron 2013        Transgenic   \n",
       "\n",
       "  Generation Method, more detail      Public Repository   \\\n",
       "0                           IRES  The Jackson Laboratory   \n",
       "1                           IRES  The Jackson Laboratory   \n",
       "2                            BAC                   MMRRC   \n",
       "\n",
       "   Public Repository Stock #              Repository Strain Name  \\\n",
       "0                    10774.0           B6(Cg)-Calb2tm1(cre)Zjh/J   \n",
       "1                     6410.0         B6;129S6-Chattm1(cre)Lowl/J   \n",
       "2                    36502.0  STOCK Tg(Chrna2-cre)OE25Gsat/Mmucd   \n",
       "\n",
       "  Data available through the Allen Institute Transgenic Portal  \n",
       "0  http://connectivity.brain-map.org/transgenic/s...            \n",
       "1  http://connectivity.brain-map.org/transgenic/s...            \n",
       "2  http://connectivity.brain-map.org/transgenic/s...            "
      ]
     },
     "execution_count": 19,
     "metadata": {},
     "output_type": "execute_result"
    }
   ],
   "source": [
    "#cre line conversion metadata\n",
    "df_cre_mtd.head(3)"
   ]
  },
  {
   "cell_type": "code",
   "execution_count": 20,
   "metadata": {
    "scrolled": false
   },
   "outputs": [
    {
     "data": {
      "text/html": [
       "<div>\n",
       "<style scoped>\n",
       "    .dataframe tbody tr th:only-of-type {\n",
       "        vertical-align: middle;\n",
       "    }\n",
       "\n",
       "    .dataframe tbody tr th {\n",
       "        vertical-align: top;\n",
       "    }\n",
       "\n",
       "    .dataframe thead th {\n",
       "        text-align: right;\n",
       "    }\n",
       "</style>\n",
       "<table border=\"1\" class=\"dataframe\">\n",
       "  <thead>\n",
       "    <tr style=\"text-align: right;\">\n",
       "      <th></th>\n",
       "      <th>short_name</th>\n",
       "      <th>coretype</th>\n",
       "      <th>primary</th>\n",
       "      <th>secondary</th>\n",
       "      <th>cre</th>\n",
       "      <th>major_dissection</th>\n",
       "      <th>layer_dissectoin</th>\n",
       "    </tr>\n",
       "  </thead>\n",
       "  <tbody>\n",
       "    <tr>\n",
       "      <td>0</td>\n",
       "      <td>A200_V</td>\n",
       "      <td>Core</td>\n",
       "      <td>f01</td>\n",
       "      <td>0</td>\n",
       "      <td>Calb2</td>\n",
       "      <td>V1</td>\n",
       "      <td>All</td>\n",
       "    </tr>\n",
       "    <tr>\n",
       "      <td>1</td>\n",
       "      <td>A201_V</td>\n",
       "      <td>Core</td>\n",
       "      <td>f02</td>\n",
       "      <td>0</td>\n",
       "      <td>Calb2</td>\n",
       "      <td>V1</td>\n",
       "      <td>All</td>\n",
       "    </tr>\n",
       "    <tr>\n",
       "      <td>2</td>\n",
       "      <td>A202_V</td>\n",
       "      <td>Core</td>\n",
       "      <td>f24</td>\n",
       "      <td>0</td>\n",
       "      <td>Calb2</td>\n",
       "      <td>V1</td>\n",
       "      <td>All</td>\n",
       "    </tr>\n",
       "  </tbody>\n",
       "</table>\n",
       "</div>"
      ],
      "text/plain": [
       "  short_name coretype primary secondary    cre major_dissection  \\\n",
       "0     A200_V     Core     f01         0  Calb2               V1   \n",
       "1     A201_V     Core     f02         0  Calb2               V1   \n",
       "2     A202_V     Core     f24         0  Calb2               V1   \n",
       "\n",
       "  layer_dissectoin  \n",
       "0              All  \n",
       "1              All  \n",
       "2              All  "
      ]
     },
     "execution_count": 20,
     "metadata": {},
     "output_type": "execute_result"
    }
   ],
   "source": [
    "#final combined table for cluster, layer, & cre\n",
    "df_types.head(3)"
   ]
  },
  {
   "cell_type": "code",
   "execution_count": null,
   "metadata": {},
   "outputs": [],
   "source": [
    "# metada query test\n",
    "df_cre_mtd[df_cre_mtd['Abbreviation'] == df_types['cre'][12]]"
   ]
  },
  {
   "cell_type": "markdown",
   "metadata": {},
   "source": [
    "main dataframe: df_types\n",
    "\n",
    "metadata: cre_mtd & cls_mtd"
   ]
  },
  {
   "cell_type": "markdown",
   "metadata": {},
   "source": [
    "## Dendrogram Parsing"
   ]
  },
  {
   "cell_type": "code",
   "execution_count": null,
   "metadata": {},
   "outputs": [],
   "source": [
    "dendro.head()"
   ]
  },
  {
   "cell_type": "code",
   "execution_count": null,
   "metadata": {},
   "outputs": [],
   "source": [
    "tree_dict = {'label':'root'} #base dictionary\n",
    "\n",
    "#parses binary node positions into a dictionary with tree structure\n",
    "for label, bin_str in zip(dendro['cluster'], dendro['position']):\n",
    "    parse_binary(tree_dict, bin_str, label)"
   ]
  },
  {
   "cell_type": "code",
   "execution_count": null,
   "metadata": {},
   "outputs": [],
   "source": [
    "importer = DictImporter()\n",
    "tree = importer.import_(tree_dict)\n",
    "\n",
    "for ind, node in enumerate(anytree.LevelOrderIter(tree)):\n",
    "    node.pos = ind + 1 #node index starting at one\n",
    "    if node.is_leaf:\n",
    "        node.name = str(ind + 1) + \" \" + node.label\n",
    "    else:\n",
    "        node.name = str(ind + 1)\n",
    "        \n",
    "print(anytree.RenderTree(tree))\n",
    "DotExporter(tree).to_picture(\"dendro.png\")\n",
    "\n",
    "#node.name for rendering\n",
    "#node.pos & node.label used for parsing"
   ]
  },
  {
   "cell_type": "code",
   "execution_count": null,
   "metadata": {},
   "outputs": [],
   "source": [
    "for leaf in tree.leaves: #TODO: phenotypes & deal with mismatching\n",
    "    #edge cases for the last two endothelial cells\n",
    "    if leaf.label  == 'Endo Tbc1d4':\n",
    "        leaf.cluster_id = 'f48'\n",
    "    elif leaf.label == 'Endo Myl9':\n",
    "        leaf.cluster_id = 'f49'\n",
    "    else:\n",
    "        leaf.cluster_id = list(df_cls_mtd[df_cls_mtd['vignette_label'] == leaf.label]['cluster_id'])[0]\n",
    "    \n",
    "    #FIXME: label name matching somehow not working\n",
    "    \"\"\"\n",
    "    genes_present = list(df_cls_mtd[df_cls_mtd['cluster_id'] == leaf.cluster_id]['markers_present'].str.split(\",\"))\n",
    "    genes_absent = list(df_cls_mtd[df_cls_mtd['cluster_id'] == leaf.cluster_id]['genes_absent'].str.split(\",\"))\n",
    "    if genes_present == np.nan:\n",
    "        leaf.genes_present = set()\n",
    "    if genes_absent == np.nan:\n",
    "        leaf.genes_absent = set()\n",
    "    else:\n",
    "        leaf.genes_present = set(genes_present[0])\n",
    "        #leaf.genes_absent = set(genes_absent)\n",
    "    \"\"\""
   ]
  },
  {
   "cell_type": "code",
   "execution_count": null,
   "metadata": {},
   "outputs": [],
   "source": [
    "#gene and cluster columns converted from dendrogram structure\n",
    "df_types['cluster'] = df_types.apply(cluster_converter, tree = tree, axis = 1)\n",
    "df_types['markers_present'] = df_types.apply(gene_merge, df = df_cls_mtd, index = 'markers_present', axis = 1)\n",
    "df_types['markers_absent'] = df_types.apply(gene_merge, df = df_cls_mtd, index = 'genes_absent', axis = 1)"
   ]
  },
  {
   "cell_type": "code",
   "execution_count": null,
   "metadata": {},
   "outputs": [],
   "source": [
    "df_types[df_types['coretype'] == 'Transition']"
   ]
  },
  {
   "cell_type": "code",
   "execution_count": null,
   "metadata": {},
   "outputs": [],
   "source": [
    "pd.value_counts(df_types[df_types['coretype'] == 'Transition']['cluster']).plot.bar()"
   ]
  },
  {
   "cell_type": "markdown",
   "metadata": {},
   "source": [
    "### Phenotype Bagging"
   ]
  },
  {
   "cell_type": "code",
   "execution_count": null,
   "metadata": {
    "scrolled": true
   },
   "outputs": [],
   "source": [
    "#Tables should now be in final version\n",
    "df_types.head()"
   ]
  },
  {
   "cell_type": "code",
   "execution_count": null,
   "metadata": {},
   "outputs": [],
   "source": [
    "response = requests.get('http://api.brain-map.org/api/v2/data/query.json?criteria='\n",
    "                        'model::TransgenicLine,rma::options[num_rows$eqall]')\n",
    "cre_ref = pd.DataFrame(response.json()['msg'])\n",
    "cre_ref['stock_number'] = pd.to_numeric(cre_ref['stock_number'])\n",
    "\n",
    "#merge both cre dataframes\n",
    "cre_df1 = pd.merge(df_cre_mtd, cre_ref,  how='inner', \n",
    "                   left_on='Driver Line',right_on = 'name')\n",
    "\n",
    "cre_df2 = pd.merge(df_cre_mtd.dropna(subset = ['Public Repository Stock #']), \n",
    "                   cre_ref.dropna(subset = ['stock_number']),  how='inner', \n",
    "                   left_on='Public Repository Stock #',\n",
    "                   right_on = 'stock_number')\n",
    "\n",
    "#drop duplicates\n",
    "cre_df1.drop_duplicates(inplace = True)\n",
    "cre_df2.drop_duplicates(inplace = True)\n",
    "cre_df = pd.concat([cre_df1, cre_df2], axis = 0)\n",
    "cre_df.drop_duplicates(inplace = True)"
   ]
  },
  {
   "cell_type": "code",
   "execution_count": null,
   "metadata": {
    "scrolled": true
   },
   "outputs": [],
   "source": [
    "df_cre_mtd[df_cre_mtd['Abbreviation'] == 'Ndnf']"
   ]
  },
  {
   "cell_type": "code",
   "execution_count": null,
   "metadata": {},
   "outputs": [],
   "source": [
    "cre_df = cre_df[['Abbreviation','name', 'id', 'stock_number',\n",
    "                 'transgenic_line_source_name',\n",
    "                 'transgenic_line_type_name',\n",
    "                 'url_prefix', 'url_suffix','description']]"
   ]
  },
  {
   "cell_type": "code",
   "execution_count": null,
   "metadata": {},
   "outputs": [],
   "source": [
    "df_cre_mtd[\"Driver Line\"]"
   ]
  },
  {
   "cell_type": "code",
   "execution_count": null,
   "metadata": {},
   "outputs": [],
   "source": [
    "cre_df"
   ]
  },
  {
   "cell_type": "code",
   "execution_count": null,
   "metadata": {},
   "outputs": [],
   "source": [
    "df_types['cre'].value_counts()"
   ]
  },
  {
   "cell_type": "code",
   "execution_count": null,
   "metadata": {},
   "outputs": [],
   "source": [
    "len(df_types['cre'].value_counts())"
   ]
  },
  {
   "cell_type": "code",
   "execution_count": null,
   "metadata": {},
   "outputs": [],
   "source": [
    "#We're supposed to have 29 cre-line types\n",
    "cre_df.head()"
   ]
  },
  {
   "cell_type": "markdown",
   "metadata": {},
   "source": [
    "## Writing & Serializing"
   ]
  },
  {
   "cell_type": "code",
   "execution_count": null,
   "metadata": {},
   "outputs": [],
   "source": [
    "config.write_python()"
   ]
  },
  {
   "cell_type": "code",
   "execution_count": null,
   "metadata": {},
   "outputs": [],
   "source": [
    "ttl_test_path = '/var/host/media/removable/SD Card/Neuron/Tasic/ttl_export'\n",
    "config = Config(\"tasic-2015\", ttl_export_dir=Path(ttl_test_path))\n",
    "tb = TasicBagger(data = df_types, **metadata)\n",
    "ind = 0\n",
    "for label, bag in tb.bags:\n",
    "    if ind == 1:\n",
    "        break\n",
    "    TasicNeuron(*bag, label = label, override=True)\n",
    "    ind += 1\n",
    "config.write()\n",
    "config.write_python()"
   ]
  },
  {
   "cell_type": "code",
   "execution_count": null,
   "metadata": {
    "scrolled": true
   },
   "outputs": [],
   "source": [
    "from neurondm.sheets import Sheet\n",
    "from neurondm import OntId, OntTerm, Config, NeuronEBM, Neuron\n",
    "from pyontutils.utils import byCol, relative_path\n",
    "from pyontutils.namespaces import ilxtr\n",
    "from pyontutils.closed_namespaces import rdfs\n",
    "\n",
    "main()"
   ]
  },
  {
   "cell_type": "code",
   "execution_count": null,
   "metadata": {},
   "outputs": [],
   "source": [
    "%aimport"
   ]
  },
  {
   "cell_type": "code",
   "execution_count": null,
   "metadata": {},
   "outputs": [],
   "source": [
    "metadata = {\"cre\":cre_df}\n",
    "tb = TasicBagger(data = df_types, **metadata)\n",
    "tb.build_transgenic_lines()"
   ]
  },
  {
   "cell_type": "markdown",
   "metadata": {},
   "source": [
    "### Test Code"
   ]
  },
  {
   "cell_type": "code",
   "execution_count": null,
   "metadata": {},
   "outputs": [],
   "source": [
    "def main():\n",
    "    metadata = {\"cre\": cre_df}\n",
    "    ttl_test_path = '/mnt/c/Users/allen/Desktop/Neuron/Tasic2015/ttl_export'\n",
    "    config = Config(\"tasic-2015\", ttl_export_dir=Path(ttl_test_path))\n",
    "    tb = TasicBagger(data=df_types, **metadata)\n",
    "    ind = 0\n",
    "    for label, bag in tb.bags:\n",
    "        if ind == 10:\n",
    "            break\n",
    "        TasicNeuron(*bag, label=label, override=True)\n",
    "        ind += 1\n",
    "    config.write()"
   ]
  },
  {
   "cell_type": "code",
   "execution_count": null,
   "metadata": {
    "scrolled": true
   },
   "outputs": [],
   "source": [
    "with Tasic2015:\n",
    "    print(Mouse)"
   ]
  },
  {
   "cell_type": "code",
   "execution_count": null,
   "metadata": {},
   "outputs": [],
   "source": [
    "from pyontutils.core import simpleOnt\n",
    "simpleOnt()"
   ]
  },
  {
   "cell_type": "code",
   "execution_count": null,
   "metadata": {},
   "outputs": [],
   "source": [
    "Phenotype(\"ilxtr:cluster6\", \"ilxtr:hasComputedMolecularPhenotype\", label = \"Tasic\", check = False)"
   ]
  },
  {
   "cell_type": "code",
   "execution_count": null,
   "metadata": {},
   "outputs": [],
   "source": [
    "from pyontutils.utils import byCol, relative_path\n",
    "from pyontutils.namespaces import ilxtr\n",
    "from pyontutils.closed_namespaces import rdfs"
   ]
  },
  {
   "cell_type": "code",
   "execution_count": null,
   "metadata": {},
   "outputs": [],
   "source": [
    "with Neuron(phns.Species.Mouse, phns.Regions.V1) as context:\n",
    "    print(context)\n",
    "    n11 = Neuron(phns.Layers.L1)\n",
    "    print(n11)"
   ]
  }
 ],
 "metadata": {
  "kernelspec": {
   "display_name": "Python 3",
   "language": "python",
   "name": "python3"
  },
  "language_info": {
   "codemirror_mode": {
    "name": "ipython",
    "version": 3
   },
   "file_extension": ".py",
   "mimetype": "text/x-python",
   "name": "python",
   "nbconvert_exporter": "python",
   "pygments_lexer": "ipython3",
   "version": "3.7.4"
  }
 },
 "nbformat": 4,
 "nbformat_minor": 2
}
