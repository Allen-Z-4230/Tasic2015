{
 "cells": [
  {
   "cell_type": "code",
   "execution_count": 1,
   "metadata": {},
   "outputs": [
    {
     "name": "stderr",
     "output_type": "stream",
     "text": [
      "\u001b[32m[2019-10-10 14:13:29,353]\u001b[0m - \u001b[33m WARNING\u001b[0m -       ontquery - \u001b[34m        terms.py:239 \u001b[0m - <class 'neurondm.core.OntTermOntologyOnly'> has intervening instrumented classes between it and its uninstrumented form <class 'neurondm.core.OntId'>\u001b[0m\n",
      "\u001b[32m[2019-10-10 14:13:29,356]\u001b[0m - \u001b[33m WARNING\u001b[0m -       ontquery - \u001b[34m        terms.py:239 \u001b[0m - <class 'neurondm.core.OntTermInterLexOnly'> has intervening instrumented classes between it and its uninstrumented form <class 'neurondm.core.OntId'>\u001b[0m\n",
      "\u001b[32m[2019-10-10 14:13:38,785]\u001b[0m - \u001b[32m    INFO\u001b[0m -       neurondm - \u001b[34m         core.py:1431\u001b[0m - Unknown phenotype http://jaxmice.jax.org/strain/028577\u001b[0m\n",
      "\u001b[32m[2019-10-10 14:13:42,581]\u001b[0m - \u001b[32m    INFO\u001b[0m -       neurondm - \u001b[34m         core.py:1431\u001b[0m - Unknown phenotype http://www.ncbi.nlm.nih.gov/gene/14799\u001b[0m\n",
      "\u001b[32m[2019-10-10 14:13:42,820]\u001b[0m - \u001b[32m    INFO\u001b[0m -       neurondm - \u001b[34m         core.py:1431\u001b[0m - Unknown phenotype http://www.ncbi.nlm.nih.gov/gene/68939\u001b[0m\n",
      "\u001b[32m[2019-10-10 14:13:42,873]\u001b[0m - \u001b[32m    INFO\u001b[0m -       neurondm - \u001b[34m         core.py:1431\u001b[0m - Unknown phenotype http://www.ncbi.nlm.nih.gov/gene/50779\u001b[0m\n",
      "\u001b[32m[2019-10-10 14:13:42,905]\u001b[0m - \u001b[32m    INFO\u001b[0m -       neurondm - \u001b[34m         core.py:1431\u001b[0m - Unknown phenotype http://www.ncbi.nlm.nih.gov/gene/24012\u001b[0m\n",
      "\u001b[32m[2019-10-10 14:13:42,930]\u001b[0m - \u001b[32m    INFO\u001b[0m -       neurondm - \u001b[34m         core.py:1431\u001b[0m - Unknown phenotype http://www.ncbi.nlm.nih.gov/gene/60596\u001b[0m\n",
      "\u001b[32m[2019-10-10 14:13:42,968]\u001b[0m - \u001b[32m    INFO\u001b[0m -       neurondm - \u001b[34m         core.py:1431\u001b[0m - Unknown phenotype http://www.ncbi.nlm.nih.gov/gene/54195\u001b[0m\n",
      "\u001b[32m[2019-10-10 14:13:43,049]\u001b[0m - \u001b[32m    INFO\u001b[0m -       neurondm - \u001b[34m         core.py:1431\u001b[0m - Unknown phenotype http://www.ncbi.nlm.nih.gov/gene/14397\u001b[0m\n",
      "\u001b[32m[2019-10-10 14:13:43,156]\u001b[0m - \u001b[32m    INFO\u001b[0m -       neurondm - \u001b[34m         core.py:1431\u001b[0m - Unknown phenotype http://www.ncbi.nlm.nih.gov/gene/19017\u001b[0m\n",
      "\u001b[32m[2019-10-10 14:13:44,149]\u001b[0m - \u001b[32m    INFO\u001b[0m -       neurondm - \u001b[34m         core.py:1563\u001b[0m - found shortnames for NCBIGene:19293 from NCBIGene ['PV', 'Pva', 'Parv']\u001b[0m\n",
      "\u001b[32m[2019-10-10 14:13:50,107]\u001b[0m - \u001b[33m WARNING\u001b[0m -       ontquery - \u001b[34m        terms.py:572 \u001b[0m - No curie for http://jaxmice.jax.org/strain/014541 from <ontquery.plugins.services.SciGraphRemote object at 0x7f23dcb034d0>\u001b[0m\n",
      "\u001b[32m[2019-10-10 14:13:51,276]\u001b[0m - \u001b[33m WARNING\u001b[0m -       ontquery - \u001b[34m        terms.py:572 \u001b[0m - No curie for http://jaxmice.jax.org/strain/028579 from <ontquery.plugins.services.SciGraphRemote object at 0x7f23dcb034d0>\u001b[0m\n",
      "\u001b[32m[2019-10-10 14:13:52,039]\u001b[0m - \u001b[33m WARNING\u001b[0m -       ontquery - \u001b[34m        terms.py:572 \u001b[0m - No curie for http://jaxmice.jax.org/strain/014541 from <ontquery.plugins.services.SciGraphRemote object at 0x7f23dcb034d0>\u001b[0m\n",
      "\u001b[32m[2019-10-10 14:13:52,144]\u001b[0m - \u001b[33m WARNING\u001b[0m -       ontquery - \u001b[34m        terms.py:572 \u001b[0m - No curie for http://jaxmice.jax.org/strain/028579 from <ontquery.plugins.services.SciGraphRemote object at 0x7f23dcb034d0>\u001b[0m\n"
     ]
    }
   ],
   "source": [
    "#standard libraries\n",
    "from pathlib import Path\n",
    "from importlib import reload\n",
    "\n",
    "#extended libraries\n",
    "import requests\n",
    "import rdflib\n",
    "import numpy as np\n",
    "import pandas as pd\n",
    "import scipy as sp\n",
    "import matplotlib.pyplot as plt\n",
    "\n",
    "#tree stuff\n",
    "import anytree\n",
    "import anytree.util\n",
    "from anytree.importer import DictImporter\n",
    "from anytree.exporter import DotExporter\n",
    "\n",
    "#custom imports\n",
    "from neurondm import *\n",
    "from neurondm.models.huang2017 import Genes\n",
    "from pyontutils.namespaces import ilxtr as pred\n",
    "from neurondm import phenotype_namespaces as phns\n",
    "from pyontutils.closed_namespaces import rdf, rdfs, owl\n",
    "from nifstd.nifstd_tools.utils import ncbigenemapping\n",
    "from utils import *\n",
    "# from tasic2015 import *"
   ]
  },
  {
   "cell_type": "code",
   "execution_count": 2,
   "metadata": {},
   "outputs": [],
   "source": [
    "%load_ext autoreload\n",
    "%autoreload 1\n",
    "%aimport tasic2015"
   ]
  },
  {
   "cell_type": "code",
   "execution_count": 3,
   "metadata": {},
   "outputs": [
    {
     "data": {
      "text/plain": [
       "'5.0.0'"
      ]
     },
     "execution_count": 3,
     "metadata": {},
     "output_type": "execute_result"
    }
   ],
   "source": [
    "rdflib.__version__"
   ]
  },
  {
   "cell_type": "code",
   "execution_count": 4,
   "metadata": {},
   "outputs": [],
   "source": [
    "def cellguard(addns=False):\n",
    "    # unfortunately ipy.hooks['pre_run_code_hook'].add(__cellguard)\n",
    "    # causes this to be called too frequently :/\n",
    "    setLocalNames()\n",
    "    setLocalContext()\n",
    "    if addns:\n",
    "        setLocalNames(phns.BBP)"
   ]
  },
  {
   "cell_type": "code",
   "execution_count": 5,
   "metadata": {},
   "outputs": [],
   "source": [
    "df_clf = pd.read_csv('Data/cell_classification.csv')\n",
    "df_cls_mtd = pd.read_csv('Data/cluster_metadata.csv')\n",
    "df_cell_mtd = pd.read_csv('Data/cell_metadata.csv')\n",
    "\n",
    "df_cre_mtd  = pd.read_excel('Data/tasic_crelines.xlsx')\n",
    "\n",
    "dendro = pd.read_csv(\"Data/web/big_tree_final.csv\", dtype = {'position':str})"
   ]
  },
  {
   "cell_type": "code",
   "execution_count": 6,
   "metadata": {
    "scrolled": true
   },
   "outputs": [
    {
     "data": {
      "text/html": [
       "<div>\n",
       "<style scoped>\n",
       "    .dataframe tbody tr th:only-of-type {\n",
       "        vertical-align: middle;\n",
       "    }\n",
       "\n",
       "    .dataframe tbody tr th {\n",
       "        vertical-align: top;\n",
       "    }\n",
       "\n",
       "    .dataframe thead th {\n",
       "        text-align: right;\n",
       "    }\n",
       "</style>\n",
       "<table border=\"1\" class=\"dataframe\">\n",
       "  <thead>\n",
       "    <tr style=\"text-align: right;\">\n",
       "      <th></th>\n",
       "      <th>Unnamed: 0</th>\n",
       "      <th>coretype</th>\n",
       "      <th>primary</th>\n",
       "      <th>secondary</th>\n",
       "      <th>f01</th>\n",
       "      <th>f02</th>\n",
       "      <th>f03</th>\n",
       "      <th>f04</th>\n",
       "      <th>f05</th>\n",
       "      <th>f06</th>\n",
       "      <th>...</th>\n",
       "      <th>f40</th>\n",
       "      <th>f41</th>\n",
       "      <th>f42</th>\n",
       "      <th>f43</th>\n",
       "      <th>f44</th>\n",
       "      <th>f45</th>\n",
       "      <th>f46</th>\n",
       "      <th>f47</th>\n",
       "      <th>f48</th>\n",
       "      <th>f49</th>\n",
       "    </tr>\n",
       "  </thead>\n",
       "  <tbody>\n",
       "    <tr>\n",
       "      <td>0</td>\n",
       "      <td>A200_V</td>\n",
       "      <td>Core</td>\n",
       "      <td>f01</td>\n",
       "      <td>0</td>\n",
       "      <td>10</td>\n",
       "      <td>0</td>\n",
       "      <td>0</td>\n",
       "      <td>0</td>\n",
       "      <td>0</td>\n",
       "      <td>0</td>\n",
       "      <td>...</td>\n",
       "      <td>0</td>\n",
       "      <td>0</td>\n",
       "      <td>0</td>\n",
       "      <td>0</td>\n",
       "      <td>0</td>\n",
       "      <td>0</td>\n",
       "      <td>0</td>\n",
       "      <td>0</td>\n",
       "      <td>0</td>\n",
       "      <td>0</td>\n",
       "    </tr>\n",
       "    <tr>\n",
       "      <td>1</td>\n",
       "      <td>A201_V</td>\n",
       "      <td>Core</td>\n",
       "      <td>f02</td>\n",
       "      <td>0</td>\n",
       "      <td>0</td>\n",
       "      <td>10</td>\n",
       "      <td>0</td>\n",
       "      <td>0</td>\n",
       "      <td>0</td>\n",
       "      <td>0</td>\n",
       "      <td>...</td>\n",
       "      <td>0</td>\n",
       "      <td>0</td>\n",
       "      <td>0</td>\n",
       "      <td>0</td>\n",
       "      <td>0</td>\n",
       "      <td>0</td>\n",
       "      <td>0</td>\n",
       "      <td>0</td>\n",
       "      <td>0</td>\n",
       "      <td>0</td>\n",
       "    </tr>\n",
       "    <tr>\n",
       "      <td>2</td>\n",
       "      <td>A202_V</td>\n",
       "      <td>Core</td>\n",
       "      <td>f24</td>\n",
       "      <td>0</td>\n",
       "      <td>0</td>\n",
       "      <td>0</td>\n",
       "      <td>0</td>\n",
       "      <td>0</td>\n",
       "      <td>0</td>\n",
       "      <td>0</td>\n",
       "      <td>...</td>\n",
       "      <td>0</td>\n",
       "      <td>0</td>\n",
       "      <td>0</td>\n",
       "      <td>0</td>\n",
       "      <td>0</td>\n",
       "      <td>0</td>\n",
       "      <td>0</td>\n",
       "      <td>0</td>\n",
       "      <td>0</td>\n",
       "      <td>0</td>\n",
       "    </tr>\n",
       "  </tbody>\n",
       "</table>\n",
       "<p>3 rows × 53 columns</p>\n",
       "</div>"
      ],
      "text/plain": [
       "  Unnamed: 0 coretype primary secondary  f01  f02  f03  f04  f05  f06  ...  \\\n",
       "0     A200_V     Core     f01         0   10    0    0    0    0    0  ...   \n",
       "1     A201_V     Core     f02         0    0   10    0    0    0    0  ...   \n",
       "2     A202_V     Core     f24         0    0    0    0    0    0    0  ...   \n",
       "\n",
       "   f40  f41  f42  f43  f44  f45  f46  f47  f48  f49  \n",
       "0    0    0    0    0    0    0    0    0    0    0  \n",
       "1    0    0    0    0    0    0    0    0    0    0  \n",
       "2    0    0    0    0    0    0    0    0    0    0  \n",
       "\n",
       "[3 rows x 53 columns]"
      ]
     },
     "execution_count": 6,
     "metadata": {},
     "output_type": "execute_result"
    }
   ],
   "source": [
    "\"\"\"\n",
    "Information about the cluster membership of each cell,\n",
    "including whether the cell is a \"core\" (unambiguously assigned to a single cluster) \n",
    "or \"transition\" (shares membership between two clusters) cell, \n",
    "as well as its membership score (from 0-10) for each cluster (labeled f01 to f49). \n",
    "\"\"\"\n",
    "df_clf.head(3)\n",
    "#TODO: Only including unambiguous cells with f-values = 10 for one cluster only."
   ]
  },
  {
   "cell_type": "code",
   "execution_count": 7,
   "metadata": {
    "scrolled": false
   },
   "outputs": [
    {
     "data": {
      "text/html": [
       "<div>\n",
       "<style scoped>\n",
       "    .dataframe tbody tr th:only-of-type {\n",
       "        vertical-align: middle;\n",
       "    }\n",
       "\n",
       "    .dataframe tbody tr th {\n",
       "        vertical-align: top;\n",
       "    }\n",
       "\n",
       "    .dataframe thead th {\n",
       "        text-align: right;\n",
       "    }\n",
       "</style>\n",
       "<table border=\"1\" class=\"dataframe\">\n",
       "  <thead>\n",
       "    <tr style=\"text-align: right;\">\n",
       "      <th></th>\n",
       "      <th>cluster_order</th>\n",
       "      <th>cluster_id</th>\n",
       "      <th>vignette_label</th>\n",
       "      <th>vignette_color</th>\n",
       "      <th>group</th>\n",
       "      <th>markers_present</th>\n",
       "      <th>markers_sparse</th>\n",
       "      <th>genes_absent</th>\n",
       "      <th>Tasic_et_al_2016_label</th>\n",
       "      <th>Unnamed: 9</th>\n",
       "    </tr>\n",
       "  </thead>\n",
       "  <tbody>\n",
       "    <tr>\n",
       "      <td>0</td>\n",
       "      <td>7</td>\n",
       "      <td>f01</td>\n",
       "      <td>Vip Mybpc1</td>\n",
       "      <td>#BB36BF</td>\n",
       "      <td>Vip</td>\n",
       "      <td>Crispld2, Cxcl14, Tpm2, Itih5, Cox6a2</td>\n",
       "      <td>Tmem182</td>\n",
       "      <td>Npy2r, Sorl1, Car4</td>\n",
       "      <td>Vip Mybpc1</td>\n",
       "      <td>NaN</td>\n",
       "    </tr>\n",
       "    <tr>\n",
       "      <td>1</td>\n",
       "      <td>6</td>\n",
       "      <td>f02</td>\n",
       "      <td>Vip Cxcl14_Car4</td>\n",
       "      <td>#C994C7</td>\n",
       "      <td>Vip</td>\n",
       "      <td>Cxcl14, Car4, Tac2</td>\n",
       "      <td>Dmp1, Syt10</td>\n",
       "      <td>Mybpc1, Npy2r, Slc44a5</td>\n",
       "      <td>Vip Parm1</td>\n",
       "      <td>NaN</td>\n",
       "    </tr>\n",
       "    <tr>\n",
       "      <td>2</td>\n",
       "      <td>8</td>\n",
       "      <td>f03</td>\n",
       "      <td>Vip Sncg</td>\n",
       "      <td>#9400E2</td>\n",
       "      <td>Vip</td>\n",
       "      <td>Reln, Npy2r, Tnfaip8l3, Cadps2, 2310042E22Rik,...</td>\n",
       "      <td>Casq2, Edn3</td>\n",
       "      <td>NaN</td>\n",
       "      <td>Vip Sncg</td>\n",
       "      <td>NaN</td>\n",
       "    </tr>\n",
       "  </tbody>\n",
       "</table>\n",
       "</div>"
      ],
      "text/plain": [
       "   cluster_order cluster_id   vignette_label vignette_color group  \\\n",
       "0              7        f01       Vip Mybpc1        #BB36BF   Vip   \n",
       "1              6        f02  Vip Cxcl14_Car4        #C994C7   Vip   \n",
       "2              8        f03         Vip Sncg        #9400E2   Vip   \n",
       "\n",
       "                                     markers_present markers_sparse  \\\n",
       "0              Crispld2, Cxcl14, Tpm2, Itih5, Cox6a2        Tmem182   \n",
       "1                                 Cxcl14, Car4, Tac2    Dmp1, Syt10   \n",
       "2  Reln, Npy2r, Tnfaip8l3, Cadps2, 2310042E22Rik,...    Casq2, Edn3   \n",
       "\n",
       "             genes_absent Tasic_et_al_2016_label  Unnamed: 9  \n",
       "0      Npy2r, Sorl1, Car4             Vip Mybpc1         NaN  \n",
       "1  Mybpc1, Npy2r, Slc44a5              Vip Parm1         NaN  \n",
       "2                     NaN               Vip Sncg         NaN  "
      ]
     },
     "execution_count": 7,
     "metadata": {},
     "output_type": "execute_result"
    }
   ],
   "source": [
    "\"\"\"\n",
    " Information about each data-driven cluster, including its label, \n",
    " the corresponding label in Tasic et al. (Nat. Neuro, 2106), the primary cell class \n",
    " membership, and marker genes (including genes with widespread expression in the cluster, \n",
    " sparse expression in the cluster, and no expression in the cluster). \n",
    "\"\"\"\n",
    "df_cls_mtd.head(3)"
   ]
  },
  {
   "cell_type": "code",
   "execution_count": 8,
   "metadata": {
    "scrolled": false
   },
   "outputs": [
    {
     "data": {
      "text/html": [
       "<div>\n",
       "<style scoped>\n",
       "    .dataframe tbody tr th:only-of-type {\n",
       "        vertical-align: middle;\n",
       "    }\n",
       "\n",
       "    .dataframe tbody tr th {\n",
       "        vertical-align: top;\n",
       "    }\n",
       "\n",
       "    .dataframe thead th {\n",
       "        text-align: right;\n",
       "    }\n",
       "</style>\n",
       "<table border=\"1\" class=\"dataframe\">\n",
       "  <thead>\n",
       "    <tr style=\"text-align: right;\">\n",
       "      <th></th>\n",
       "      <th>long_name</th>\n",
       "      <th>cre</th>\n",
       "      <th>collection_date</th>\n",
       "      <th>sequencing_type</th>\n",
       "      <th>total_reads</th>\n",
       "      <th>all_mapped_percent</th>\n",
       "      <th>mRNA_percent</th>\n",
       "      <th>genome_percent</th>\n",
       "      <th>ercc_percent</th>\n",
       "      <th>tdt_permillion</th>\n",
       "      <th>major_class</th>\n",
       "      <th>sub_class</th>\n",
       "      <th>major_dissection</th>\n",
       "      <th>layer_dissectoin</th>\n",
       "      <th>color_code</th>\n",
       "      <th>short_name</th>\n",
       "    </tr>\n",
       "  </thead>\n",
       "  <tbody>\n",
       "    <tr>\n",
       "      <td>0</td>\n",
       "      <td>A01101401</td>\n",
       "      <td>Calb2</td>\n",
       "      <td>11/18/2013</td>\n",
       "      <td>hiseq</td>\n",
       "      <td>23770190</td>\n",
       "      <td>93.50</td>\n",
       "      <td>54.43</td>\n",
       "      <td>30.08</td>\n",
       "      <td>4.36</td>\n",
       "      <td>306.1</td>\n",
       "      <td>Inhibitory</td>\n",
       "      <td>Vip</td>\n",
       "      <td>V1</td>\n",
       "      <td>All</td>\n",
       "      <td>11</td>\n",
       "      <td>A200_V</td>\n",
       "    </tr>\n",
       "    <tr>\n",
       "      <td>1</td>\n",
       "      <td>A01101402</td>\n",
       "      <td>Calb2</td>\n",
       "      <td>11/18/2013</td>\n",
       "      <td>hiseq</td>\n",
       "      <td>9694719</td>\n",
       "      <td>92.86</td>\n",
       "      <td>45.69</td>\n",
       "      <td>35.45</td>\n",
       "      <td>7.84</td>\n",
       "      <td>341.2</td>\n",
       "      <td>Inhibitory</td>\n",
       "      <td>Vip</td>\n",
       "      <td>V1</td>\n",
       "      <td>All</td>\n",
       "      <td>11</td>\n",
       "      <td>A201_V</td>\n",
       "    </tr>\n",
       "    <tr>\n",
       "      <td>2</td>\n",
       "      <td>A01101403</td>\n",
       "      <td>Calb2</td>\n",
       "      <td>11/18/2013</td>\n",
       "      <td>hiseq</td>\n",
       "      <td>5864322</td>\n",
       "      <td>90.55</td>\n",
       "      <td>48.30</td>\n",
       "      <td>34.01</td>\n",
       "      <td>4.12</td>\n",
       "      <td>106.2</td>\n",
       "      <td>Excitatory</td>\n",
       "      <td>L4</td>\n",
       "      <td>V1</td>\n",
       "      <td>All</td>\n",
       "      <td>11</td>\n",
       "      <td>A202_V</td>\n",
       "    </tr>\n",
       "  </tbody>\n",
       "</table>\n",
       "</div>"
      ],
      "text/plain": [
       "   long_name    cre collection_date sequencing_type  total_reads  \\\n",
       "0  A01101401  Calb2      11/18/2013           hiseq     23770190   \n",
       "1  A01101402  Calb2      11/18/2013           hiseq      9694719   \n",
       "2  A01101403  Calb2      11/18/2013           hiseq      5864322   \n",
       "\n",
       "   all_mapped_percent  mRNA_percent  genome_percent  ercc_percent  \\\n",
       "0               93.50         54.43           30.08          4.36   \n",
       "1               92.86         45.69           35.45          7.84   \n",
       "2               90.55         48.30           34.01          4.12   \n",
       "\n",
       "   tdt_permillion major_class sub_class major_dissection layer_dissectoin  \\\n",
       "0           306.1  Inhibitory       Vip               V1              All   \n",
       "1           341.2  Inhibitory       Vip               V1              All   \n",
       "2           106.2  Excitatory        L4               V1              All   \n",
       "\n",
       "   color_code short_name  \n",
       "0          11     A200_V  \n",
       "1          11     A201_V  \n",
       "2          11     A202_V  "
      ]
     },
     "execution_count": 8,
     "metadata": {},
     "output_type": "execute_result"
    }
   ],
   "source": [
    "\"\"\"\n",
    "Information about each cell profiled, including its nomenclature, \n",
    "Cre line of origin, dissection, date of collection and sequencing, \n",
    "and read mapping statistics\n",
    "\"\"\"\n",
    "df_cell_mtd.head(3)"
   ]
  },
  {
   "cell_type": "code",
   "execution_count": 9,
   "metadata": {},
   "outputs": [],
   "source": [
    "df_clf.rename(index=str, columns={\"Unnamed: 0\":\"cell_index\"}, inplace = True)\n",
    "df_clf = df_clf[['cell_index','coretype', 'primary', 'secondary']]\n",
    "\n",
    "#Reorder and drop columns that are not interesting\n",
    "df_cell_mtd = df_cell_mtd[['short_name','cre','major_class','sub_class',\n",
    "                           'major_dissection', 'layer_dissectoin']]\n",
    "df_cls_mtd = df_cls_mtd[['cluster_id','cluster_order','vignette_label',\n",
    "                         'group','markers_present','markers_sparse',\n",
    "                         'genes_absent','Tasic_et_al_2016_label']]\n",
    "\n",
    "df_cls_mtd['cluster_id'] = df_cls_mtd['cluster_id'].astype(str)\n",
    "\n",
    "#merge\n",
    "df_types = df_cell_mtd.merge(df_clf, left_on='short_name', right_on='cell_index')\n",
    "df_types = df_types[['short_name', 'coretype', 'primary', 'secondary',\n",
    "                     'cre','major_dissection', 'layer_dissectoin']]"
   ]
  },
  {
   "cell_type": "code",
   "execution_count": 10,
   "metadata": {},
   "outputs": [
    {
     "data": {
      "text/html": [
       "<div>\n",
       "<style scoped>\n",
       "    .dataframe tbody tr th:only-of-type {\n",
       "        vertical-align: middle;\n",
       "    }\n",
       "\n",
       "    .dataframe tbody tr th {\n",
       "        vertical-align: top;\n",
       "    }\n",
       "\n",
       "    .dataframe thead th {\n",
       "        text-align: right;\n",
       "    }\n",
       "</style>\n",
       "<table border=\"1\" class=\"dataframe\">\n",
       "  <thead>\n",
       "    <tr style=\"text-align: right;\">\n",
       "      <th></th>\n",
       "      <th>#</th>\n",
       "      <th>Driver Line</th>\n",
       "      <th>Abbreviation</th>\n",
       "      <th>Originating Lab (Donating Investigator)</th>\n",
       "      <th>Primary Reference</th>\n",
       "      <th>Generation Method</th>\n",
       "      <th>Generation Method, more detail</th>\n",
       "      <th>Public Repository</th>\n",
       "      <th>Public Repository Stock #</th>\n",
       "      <th>Repository Strain Name</th>\n",
       "      <th>Data available through the Allen Institute Transgenic Portal</th>\n",
       "    </tr>\n",
       "  </thead>\n",
       "  <tbody>\n",
       "    <tr>\n",
       "      <td>0</td>\n",
       "      <td>1.0</td>\n",
       "      <td>Calb2-IRES-Cre</td>\n",
       "      <td>Calb2</td>\n",
       "      <td>Z. Josh Huang</td>\n",
       "      <td>Taniguchi et al., Neuron 2011</td>\n",
       "      <td>Knock-in</td>\n",
       "      <td>IRES</td>\n",
       "      <td>The Jackson Laboratory</td>\n",
       "      <td>10774.0</td>\n",
       "      <td>B6(Cg)-Calb2tm1(cre)Zjh/J</td>\n",
       "      <td>http://connectivity.brain-map.org/transgenic/s...</td>\n",
       "    </tr>\n",
       "    <tr>\n",
       "      <td>1</td>\n",
       "      <td>2.0</td>\n",
       "      <td>Chat-IRES-Cre</td>\n",
       "      <td>Chat</td>\n",
       "      <td>Brad Lowell</td>\n",
       "      <td>Rossi et al., Cell Metab. 2011</td>\n",
       "      <td>Knock-in</td>\n",
       "      <td>IRES</td>\n",
       "      <td>The Jackson Laboratory</td>\n",
       "      <td>6410.0</td>\n",
       "      <td>B6;129S6-Chattm1(cre)Lowl/J</td>\n",
       "      <td>http://connectivity.brain-map.org/transgenic/s...</td>\n",
       "    </tr>\n",
       "    <tr>\n",
       "      <td>2</td>\n",
       "      <td>3.0</td>\n",
       "      <td>Chrna2-Cre_OE25</td>\n",
       "      <td>Chrna2</td>\n",
       "      <td>Nathaniel Heintz and Charles Gerfen</td>\n",
       "      <td>Gerfen et al., Neuron 2013</td>\n",
       "      <td>Transgenic</td>\n",
       "      <td>BAC</td>\n",
       "      <td>MMRRC</td>\n",
       "      <td>36502.0</td>\n",
       "      <td>STOCK Tg(Chrna2-cre)OE25Gsat/Mmucd</td>\n",
       "      <td>http://connectivity.brain-map.org/transgenic/s...</td>\n",
       "    </tr>\n",
       "  </tbody>\n",
       "</table>\n",
       "</div>"
      ],
      "text/plain": [
       "     #      Driver Line Abbreviation Originating Lab (Donating Investigator)  \\\n",
       "0  1.0   Calb2-IRES-Cre        Calb2                           Z. Josh Huang   \n",
       "1  2.0    Chat-IRES-Cre         Chat                             Brad Lowell   \n",
       "2  3.0  Chrna2-Cre_OE25       Chrna2     Nathaniel Heintz and Charles Gerfen   \n",
       "\n",
       "                Primary Reference Generation Method  \\\n",
       "0   Taniguchi et al., Neuron 2011          Knock-in   \n",
       "1  Rossi et al., Cell Metab. 2011          Knock-in   \n",
       "2      Gerfen et al., Neuron 2013        Transgenic   \n",
       "\n",
       "  Generation Method, more detail      Public Repository   \\\n",
       "0                           IRES  The Jackson Laboratory   \n",
       "1                           IRES  The Jackson Laboratory   \n",
       "2                            BAC                   MMRRC   \n",
       "\n",
       "   Public Repository Stock #              Repository Strain Name  \\\n",
       "0                    10774.0           B6(Cg)-Calb2tm1(cre)Zjh/J   \n",
       "1                     6410.0         B6;129S6-Chattm1(cre)Lowl/J   \n",
       "2                    36502.0  STOCK Tg(Chrna2-cre)OE25Gsat/Mmucd   \n",
       "\n",
       "  Data available through the Allen Institute Transgenic Portal  \n",
       "0  http://connectivity.brain-map.org/transgenic/s...            \n",
       "1  http://connectivity.brain-map.org/transgenic/s...            \n",
       "2  http://connectivity.brain-map.org/transgenic/s...            "
      ]
     },
     "execution_count": 10,
     "metadata": {},
     "output_type": "execute_result"
    }
   ],
   "source": [
    "#cre line conversion metadata\n",
    "df_cre_mtd.head(3)"
   ]
  },
  {
   "cell_type": "code",
   "execution_count": 11,
   "metadata": {
    "scrolled": false
   },
   "outputs": [
    {
     "data": {
      "text/html": [
       "<div>\n",
       "<style scoped>\n",
       "    .dataframe tbody tr th:only-of-type {\n",
       "        vertical-align: middle;\n",
       "    }\n",
       "\n",
       "    .dataframe tbody tr th {\n",
       "        vertical-align: top;\n",
       "    }\n",
       "\n",
       "    .dataframe thead th {\n",
       "        text-align: right;\n",
       "    }\n",
       "</style>\n",
       "<table border=\"1\" class=\"dataframe\">\n",
       "  <thead>\n",
       "    <tr style=\"text-align: right;\">\n",
       "      <th></th>\n",
       "      <th>short_name</th>\n",
       "      <th>coretype</th>\n",
       "      <th>primary</th>\n",
       "      <th>secondary</th>\n",
       "      <th>cre</th>\n",
       "      <th>major_dissection</th>\n",
       "      <th>layer_dissectoin</th>\n",
       "    </tr>\n",
       "  </thead>\n",
       "  <tbody>\n",
       "    <tr>\n",
       "      <td>0</td>\n",
       "      <td>A200_V</td>\n",
       "      <td>Core</td>\n",
       "      <td>f01</td>\n",
       "      <td>0</td>\n",
       "      <td>Calb2</td>\n",
       "      <td>V1</td>\n",
       "      <td>All</td>\n",
       "    </tr>\n",
       "    <tr>\n",
       "      <td>1</td>\n",
       "      <td>A201_V</td>\n",
       "      <td>Core</td>\n",
       "      <td>f02</td>\n",
       "      <td>0</td>\n",
       "      <td>Calb2</td>\n",
       "      <td>V1</td>\n",
       "      <td>All</td>\n",
       "    </tr>\n",
       "    <tr>\n",
       "      <td>2</td>\n",
       "      <td>A202_V</td>\n",
       "      <td>Core</td>\n",
       "      <td>f24</td>\n",
       "      <td>0</td>\n",
       "      <td>Calb2</td>\n",
       "      <td>V1</td>\n",
       "      <td>All</td>\n",
       "    </tr>\n",
       "  </tbody>\n",
       "</table>\n",
       "</div>"
      ],
      "text/plain": [
       "  short_name coretype primary secondary    cre major_dissection  \\\n",
       "0     A200_V     Core     f01         0  Calb2               V1   \n",
       "1     A201_V     Core     f02         0  Calb2               V1   \n",
       "2     A202_V     Core     f24         0  Calb2               V1   \n",
       "\n",
       "  layer_dissectoin  \n",
       "0              All  \n",
       "1              All  \n",
       "2              All  "
      ]
     },
     "execution_count": 11,
     "metadata": {},
     "output_type": "execute_result"
    }
   ],
   "source": [
    "#final combined table for cluster, layer, & cre\n",
    "df_types.head(3)"
   ]
  },
  {
   "cell_type": "markdown",
   "metadata": {},
   "source": [
    "main dataframe: df_types\n",
    "\n",
    "metadata: cre_mtd & cls_mtd"
   ]
  },
  {
   "cell_type": "markdown",
   "metadata": {},
   "source": [
    "## Dendrogram Parsing"
   ]
  },
  {
   "cell_type": "code",
   "execution_count": 12,
   "metadata": {},
   "outputs": [
    {
     "data": {
      "text/html": [
       "<div>\n",
       "<style scoped>\n",
       "    .dataframe tbody tr th:only-of-type {\n",
       "        vertical-align: middle;\n",
       "    }\n",
       "\n",
       "    .dataframe tbody tr th {\n",
       "        vertical-align: top;\n",
       "    }\n",
       "\n",
       "    .dataframe thead th {\n",
       "        text-align: right;\n",
       "    }\n",
       "</style>\n",
       "<table border=\"1\" class=\"dataframe\">\n",
       "  <thead>\n",
       "    <tr style=\"text-align: right;\">\n",
       "      <th></th>\n",
       "      <th>cluster</th>\n",
       "      <th>position</th>\n",
       "    </tr>\n",
       "  </thead>\n",
       "  <tbody>\n",
       "    <tr>\n",
       "      <td>0</td>\n",
       "      <td>Cd34</td>\n",
       "      <td>000000</td>\n",
       "    </tr>\n",
       "    <tr>\n",
       "      <td>1</td>\n",
       "      <td>Ndnf Car4</td>\n",
       "      <td>0000010</td>\n",
       "    </tr>\n",
       "    <tr>\n",
       "      <td>2</td>\n",
       "      <td>Ndnf Cxcl14</td>\n",
       "      <td>0000011</td>\n",
       "    </tr>\n",
       "    <tr>\n",
       "      <td>3</td>\n",
       "      <td>Vip Gpc3</td>\n",
       "      <td>0000100</td>\n",
       "    </tr>\n",
       "    <tr>\n",
       "      <td>4</td>\n",
       "      <td>Vip Chat</td>\n",
       "      <td>0000101</td>\n",
       "    </tr>\n",
       "  </tbody>\n",
       "</table>\n",
       "</div>"
      ],
      "text/plain": [
       "       cluster position\n",
       "0         Cd34   000000\n",
       "1    Ndnf Car4  0000010\n",
       "2  Ndnf Cxcl14  0000011\n",
       "3     Vip Gpc3  0000100\n",
       "4     Vip Chat  0000101"
      ]
     },
     "execution_count": 12,
     "metadata": {},
     "output_type": "execute_result"
    }
   ],
   "source": [
    "dendro.head()"
   ]
  },
  {
   "cell_type": "code",
   "execution_count": 13,
   "metadata": {},
   "outputs": [],
   "source": [
    "tree_dict = {'label':'root'} #base dictionary\n",
    "\n",
    "#parses binary node positions into a dictionary with tree structure\n",
    "for label, bin_str in zip(dendro['cluster'], dendro['position']):\n",
    "    parse_binary(tree_dict, bin_str, label)"
   ]
  },
  {
   "cell_type": "code",
   "execution_count": 14,
   "metadata": {},
   "outputs": [
    {
     "name": "stdout",
     "output_type": "stream",
     "text": [
      "AnyNode(label='root', name='1', pos=1)\n",
      "├── AnyNode(name='2', pos=2)\n",
      "│   ├── AnyNode(name='4', pos=4)\n",
      "│   │   ├── AnyNode(name='8', pos=8)\n",
      "│   │   │   ├── AnyNode(name='16', pos=16)\n",
      "│   │   │   │   ├── AnyNode(name='28', pos=28)\n",
      "│   │   │   │   │   ├── AnyNode(label='Cd34', name='42 Cd34', pos=42)\n",
      "│   │   │   │   │   └── AnyNode(name='43', pos=43)\n",
      "│   │   │   │   │       ├── AnyNode(label='Ndnf Car4', name='60 Ndnf Car4', pos=60)\n",
      "│   │   │   │   │       └── AnyNode(label='Ndnf Cxcl14', name='61 Ndnf Cxcl14', pos=61)\n",
      "│   │   │   │   └── AnyNode(name='29', pos=29)\n",
      "│   │   │   │       ├── AnyNode(name='44', pos=44)\n",
      "│   │   │   │       │   ├── AnyNode(label='Vip Gpc3', name='62 Vip Gpc3', pos=62)\n",
      "│   │   │   │       │   └── AnyNode(label='Vip Chat', name='63 Vip Chat', pos=63)\n",
      "│   │   │   │       └── AnyNode(name='45', pos=45)\n",
      "│   │   │   │           ├── AnyNode(name='64', pos=64)\n",
      "│   │   │   │           │   ├── AnyNode(label='Vip Cxcl14_Car4', name='80 Vip Cxcl14_Car4', pos=80)\n",
      "│   │   │   │           │   └── AnyNode(label='Vip Mybpc1', name='81 Vip Mybpc1', pos=81)\n",
      "│   │   │   │           └── AnyNode(label='Vip Sncg', name='65 Vip Sncg', pos=65)\n",
      "│   │   │   └── AnyNode(label='Sncg', name='17 Sncg', pos=17)\n",
      "│   │   └── AnyNode(name='9', pos=9)\n",
      "│   │       ├── AnyNode(name='18', pos=18)\n",
      "│   │       │   ├── AnyNode(name='30', pos=30)\n",
      "│   │       │   │   ├── AnyNode(label='Sst Chodl', name='46 Sst Chodl', pos=46)\n",
      "│   │       │   │   └── AnyNode(name='47', pos=47)\n",
      "│   │       │   │       ├── AnyNode(name='66', pos=66)\n",
      "│   │       │   │       │   ├── AnyNode(name='82', pos=82)\n",
      "│   │       │   │       │   │   ├── AnyNode(label='Sst Cdk6', name='88 Sst Cdk6', pos=88)\n",
      "│   │       │   │       │   │   └── AnyNode(name='89', pos=89)\n",
      "│   │       │   │       │   │       ├── AnyNode(label='Sst Cbln4', name='94 Sst Cbln4', pos=94)\n",
      "│   │       │   │       │   │       └── AnyNode(label='Sst Myh8', name='95 Sst Myh8', pos=95)\n",
      "│   │       │   │       │   └── AnyNode(label='Sst Tacstd2', name='83 Sst Tacstd2', pos=83)\n",
      "│   │       │   │       └── AnyNode(label='Sst Th', name='67 Sst Th', pos=67)\n",
      "│   │       │   └── AnyNode(name='31', pos=31)\n",
      "│   │       │       ├── AnyNode(label='Pvalb Cpne5', name='48 Pvalb Cpne5', pos=48)\n",
      "│   │       │       └── AnyNode(name='49', pos=49)\n",
      "│   │       │           ├── AnyNode(label='Pvalb Tpbg', name='68 Pvalb Tpbg', pos=68)\n",
      "│   │       │           └── AnyNode(name='69', pos=69)\n",
      "│   │       │               ├── AnyNode(name='84', pos=84)\n",
      "│   │       │               │   ├── AnyNode(label='Pvalb Gpx3', name='90 Pvalb Gpx3', pos=90)\n",
      "│   │       │               │   └── AnyNode(name='91', pos=91)\n",
      "│   │       │               │       ├── AnyNode(label='Pvalb Rspo2', name='96 Pvalb Rspo2', pos=96)\n",
      "│   │       │               │       └── AnyNode(label='Pvalb Wt1', name='97 Pvalb Wt1', pos=97)\n",
      "│   │       │               └── AnyNode(name='85', pos=85)\n",
      "│   │       │                   ├── AnyNode(label='Pvalb Obox3', name='92 Pvalb Obox3', pos=92)\n",
      "│   │       │                   └── AnyNode(label='Pvalb Tacr3', name='93 Pvalb Tacr3', pos=93)\n",
      "│   │       └── AnyNode(label='Igtp', name='19 Igtp', pos=19)\n",
      "│   └── AnyNode(name='5', pos=5)\n",
      "│       ├── AnyNode(name='10', pos=10)\n",
      "│       │   ├── AnyNode(name='20', pos=20)\n",
      "│       │   │   ├── AnyNode(label='L2 Ngb', name='32 L2 Ngb', pos=32)\n",
      "│       │   │   └── AnyNode(label='L2/3 Otof', name='33 L2/3 Otof', pos=33)\n",
      "│       │   └── AnyNode(name='21', pos=21)\n",
      "│       │       ├── AnyNode(name='34', pos=34)\n",
      "│       │       │   ├── AnyNode(name='50', pos=50)\n",
      "│       │       │   │   ├── AnyNode(label='L4 Sparcl1', name='70 L4 Sparcl1', pos=70)\n",
      "│       │       │   │   └── AnyNode(label='L4 Scnn1a', name='71 L4 Scnn1a', pos=71)\n",
      "│       │       │   └── AnyNode(label='L4 Arf5', name='51 L4 Arf5', pos=51)\n",
      "│       │       └── AnyNode(label='L4 Hsd11b1', name='35 L4 Hsd11b1', pos=35)\n",
      "│       └── AnyNode(name='11', pos=11)\n",
      "│           ├── AnyNode(name='22', pos=22)\n",
      "│           │   ├── AnyNode(name='36', pos=36)\n",
      "│           │   │   ├── AnyNode(name='52', pos=52)\n",
      "│           │   │   │   ├── AnyNode(label='L5a Fam5c', name='72 L5a Fam5c', pos=72)\n",
      "│           │   │   │   └── AnyNode(name='73', pos=73)\n",
      "│           │   │   │       ├── AnyNode(label='L5a Syt17', name='86 L5a Syt17', pos=86)\n",
      "│           │   │   │       └── AnyNode(label='L5a Batf3', name='87 L5a Batf3', pos=87)\n",
      "│           │   │   └── AnyNode(label='L5 Ucma', name='53 L5 Ucma', pos=53)\n",
      "│           │   └── AnyNode(name='37', pos=37)\n",
      "│           │       ├── AnyNode(name='54', pos=54)\n",
      "│           │       │   ├── AnyNode(label='L5b Samd3', name='74 L5b Samd3', pos=74)\n",
      "│           │       │   └── AnyNode(label='L5b Cdh13', name='75 L5b Cdh13', pos=75)\n",
      "│           │       └── AnyNode(label='L5 Chrna6', name='55 L5 Chrna6', pos=55)\n",
      "│           └── AnyNode(name='23', pos=23)\n",
      "│               ├── AnyNode(name='38', pos=38)\n",
      "│               │   ├── AnyNode(name='56', pos=56)\n",
      "│               │   │   ├── AnyNode(label='L6a Mgp', name='76 L6a Mgp', pos=76)\n",
      "│               │   │   └── AnyNode(label='L6a Plcxd3', name='77 L6a Plcxd3', pos=77)\n",
      "│               │   └── AnyNode(name='57', pos=57)\n",
      "│               │       ├── AnyNode(label='L6a Car12', name='78 L6a Car12', pos=78)\n",
      "│               │       └── AnyNode(label='L6a Syt17', name='79 L6a Syt17', pos=79)\n",
      "│               └── AnyNode(name='39', pos=39)\n",
      "│                   ├── AnyNode(label='L6b Trh', name='58 L6b Trh', pos=58)\n",
      "│                   └── AnyNode(label='L6b Mup5', name='59 L6b Mup5', pos=59)\n",
      "└── AnyNode(name='3', pos=3)\n",
      "    ├── AnyNode(name='6', pos=6)\n",
      "    │   ├── AnyNode(label='Astro Gja1', name='12 Astro Gja1', pos=12)\n",
      "    │   └── AnyNode(name='13', pos=13)\n",
      "    │       ├── AnyNode(label='OPC Pdgfra', name='24 OPC Pdgfra', pos=24)\n",
      "    │       └── AnyNode(name='25', pos=25)\n",
      "    │           ├── AnyNode(label='OPC/Oligo', name='40 OPC/Oligo', pos=40)\n",
      "    │           └── AnyNode(label='Oligo Opalin', name='41 Oligo Opalin', pos=41)\n",
      "    └── AnyNode(name='7', pos=7)\n",
      "        ├── AnyNode(label='Micro Ctss', name='14 Micro Ctss', pos=14)\n",
      "        └── AnyNode(name='15', pos=15)\n",
      "            ├── AnyNode(label='Endo Tbc1d4', name='26 Endo Tbc1d4', pos=26)\n",
      "            └── AnyNode(label='Endo Myl9', name='27 Endo Myl9', pos=27)\n"
     ]
    }
   ],
   "source": [
    "importer = DictImporter()\n",
    "tree = importer.import_(tree_dict)\n",
    "\n",
    "for ind, node in enumerate(anytree.LevelOrderIter(tree)):\n",
    "    node.pos = ind + 1 #node index starting at one\n",
    "    if node.is_leaf:\n",
    "        node.name = str(ind + 1) + \" \" + node.label\n",
    "    else:\n",
    "        node.name = str(ind + 1)\n",
    "        \n",
    "print(anytree.RenderTree(tree))\n",
    "DotExporter(tree).to_picture(\"dendro.png\")\n",
    "\n",
    "#node.name for rendering\n",
    "#node.pos & node.label used for parsing"
   ]
  },
  {
   "cell_type": "code",
   "execution_count": 15,
   "metadata": {},
   "outputs": [],
   "source": [
    "for leaf in tree.leaves: #TODO: phenotypes & deal with mismatching\n",
    "    #edge cases for the last two endothelial cells\n",
    "    if leaf.label  == 'Endo Tbc1d4':\n",
    "        leaf.cluster_id = 'f48'\n",
    "    elif leaf.label == 'Endo Myl9':\n",
    "        leaf.cluster_id = 'f49'\n",
    "    else:\n",
    "        leaf.cluster_id = list(df_cls_mtd[df_cls_mtd['vignette_label'] == leaf.label]['cluster_id'])[0]\n",
    "    \n",
    "    #FIXME: label name matching somehow not working\n",
    "    \"\"\"\n",
    "    genes_present = list(df_cls_mtd[df_cls_mtd['cluster_id'] == leaf.cluster_id]['markers_present'].str.split(\",\"))\n",
    "    genes_absent = list(df_cls_mtd[df_cls_mtd['cluster_id'] == leaf.cluster_id]['genes_absent'].str.split(\",\"))\n",
    "    if genes_present == np.nan:\n",
    "        leaf.genes_present = set()\n",
    "    if genes_absent == np.nan:\n",
    "        leaf.genes_absent = set()\n",
    "    else:\n",
    "        leaf.genes_present = set(genes_present[0])\n",
    "        #leaf.genes_absent = set(genes_absent)\n",
    "    \"\"\""
   ]
  },
  {
   "cell_type": "code",
   "execution_count": 16,
   "metadata": {},
   "outputs": [],
   "source": [
    "#gene and cluster columns converted from dendrogram structure\n",
    "df_types['cluster'] = df_types.apply(cluster_converter, tree = tree, axis = 1)\n",
    "df_types['markers_present'] = df_types.apply(gene_merge, df = df_cls_mtd, index = 'markers_present', axis = 1)\n",
    "df_types['markers_absent'] = df_types.apply(gene_merge, df = df_cls_mtd, index = 'genes_absent', axis = 1)"
   ]
  },
  {
   "cell_type": "code",
   "execution_count": 17,
   "metadata": {},
   "outputs": [
    {
     "data": {
      "text/html": [
       "<div>\n",
       "<style scoped>\n",
       "    .dataframe tbody tr th:only-of-type {\n",
       "        vertical-align: middle;\n",
       "    }\n",
       "\n",
       "    .dataframe tbody tr th {\n",
       "        vertical-align: top;\n",
       "    }\n",
       "\n",
       "    .dataframe thead th {\n",
       "        text-align: right;\n",
       "    }\n",
       "</style>\n",
       "<table border=\"1\" class=\"dataframe\">\n",
       "  <thead>\n",
       "    <tr style=\"text-align: right;\">\n",
       "      <th></th>\n",
       "      <th>short_name</th>\n",
       "      <th>coretype</th>\n",
       "      <th>primary</th>\n",
       "      <th>secondary</th>\n",
       "      <th>cre</th>\n",
       "      <th>major_dissection</th>\n",
       "      <th>layer_dissectoin</th>\n",
       "      <th>cluster</th>\n",
       "      <th>markers_present</th>\n",
       "      <th>markers_absent</th>\n",
       "    </tr>\n",
       "  </thead>\n",
       "  <tbody>\n",
       "    <tr>\n",
       "      <td>8</td>\n",
       "      <td>A272_V</td>\n",
       "      <td>Transition</td>\n",
       "      <td>f24</td>\n",
       "      <td>f28</td>\n",
       "      <td>Calb2</td>\n",
       "      <td>V1</td>\n",
       "      <td>All</td>\n",
       "      <td>10</td>\n",
       "      <td>{}</td>\n",
       "      <td>{ Endou,  Fam19a1,  Kitl, Scnn1a,  Gm13629,  Z...</td>\n",
       "    </tr>\n",
       "    <tr>\n",
       "      <td>15</td>\n",
       "      <td>A279_V</td>\n",
       "      <td>Transition</td>\n",
       "      <td>f07</td>\n",
       "      <td>f02</td>\n",
       "      <td>Calb2</td>\n",
       "      <td>V1</td>\n",
       "      <td>All</td>\n",
       "      <td>16</td>\n",
       "      <td>{}</td>\n",
       "      <td>{Mybpc1, Car4,  Slc44a5,  Npy2r}</td>\n",
       "    </tr>\n",
       "    <tr>\n",
       "      <td>26</td>\n",
       "      <td>A1612_V</td>\n",
       "      <td>Transition</td>\n",
       "      <td>f32</td>\n",
       "      <td>f39</td>\n",
       "      <td>Calb2</td>\n",
       "      <td>V1</td>\n",
       "      <td>All</td>\n",
       "      <td>11</td>\n",
       "      <td>{}</td>\n",
       "      <td>{ Pter, Ntrk3, C1ql3,  Slc30a3}</td>\n",
       "    </tr>\n",
       "  </tbody>\n",
       "</table>\n",
       "</div>"
      ],
      "text/plain": [
       "   short_name    coretype primary secondary    cre major_dissection  \\\n",
       "8      A272_V  Transition     f24       f28  Calb2               V1   \n",
       "15     A279_V  Transition     f07       f02  Calb2               V1   \n",
       "26    A1612_V  Transition     f32       f39  Calb2               V1   \n",
       "\n",
       "   layer_dissectoin  cluster markers_present  \\\n",
       "8               All       10              {}   \n",
       "15              All       16              {}   \n",
       "26              All       11              {}   \n",
       "\n",
       "                                       markers_absent  \n",
       "8   { Endou,  Fam19a1,  Kitl, Scnn1a,  Gm13629,  Z...  \n",
       "15                   {Mybpc1, Car4,  Slc44a5,  Npy2r}  \n",
       "26                    { Pter, Ntrk3, C1ql3,  Slc30a3}  "
      ]
     },
     "execution_count": 17,
     "metadata": {},
     "output_type": "execute_result"
    }
   ],
   "source": [
    "df_types[df_types['coretype'] == 'Transition'].head(3)"
   ]
  },
  {
   "cell_type": "code",
   "execution_count": 18,
   "metadata": {},
   "outputs": [],
   "source": [
    "response = requests.get('http://api.brain-map.org/api/v2/data/query.json?criteria='\n",
    "                        'model::TransgenicLine,rma::options[num_rows$eqall]')\n",
    "cre_ref = pd.DataFrame(response.json()['msg'])\n",
    "cre_ref['stock_number'] = pd.to_numeric(cre_ref['stock_number'])\n",
    "\n",
    "#creates final cre metadata based on a name merge & a stock number merge\n",
    "cre_df1 = pd.merge(df_cre_mtd, cre_ref,  how='inner',\n",
    "                   left_on='Driver Line',right_on = 'name')\n",
    "\n",
    "cre_df2 = pd.merge(df_cre_mtd.dropna(subset = ['Public Repository Stock #']),\n",
    "                   cre_ref.dropna(subset = ['stock_number']),  how='inner',\n",
    "                   left_on='Public Repository Stock #',\n",
    "                   right_on = 'stock_number')\n",
    "\n",
    "#drop duplicates\n",
    "cre_df1.drop_duplicates(inplace = True)\n",
    "cre_df2.drop_duplicates(inplace = True)\n",
    "cre_df = pd.concat([cre_df1, cre_df2], axis = 0)\n",
    "cre_df.drop_duplicates(inplace = True)\n",
    "\n",
    "#reorder\n",
    "cre_df = cre_df[['Abbreviation','name', 'id', 'stock_number',\n",
    "                 'transgenic_line_source_name',\n",
    "                 'transgenic_line_type_name',\n",
    "                 'url_prefix', 'url_suffix','description']]"
   ]
  },
  {
   "cell_type": "markdown",
   "metadata": {},
   "source": [
    "### Data Visualization"
   ]
  },
  {
   "cell_type": "code",
   "execution_count": 19,
   "metadata": {},
   "outputs": [
    {
     "data": {
      "image/png": "[encoded data removed]",
      "text/plain": [
       "<Figure size 432x288 with 1 Axes>"
      ]
     },
     "metadata": {
      "needs_background": "light"
     },
     "output_type": "display_data"
    }
   ],
   "source": [
    "pd.value_counts(df_types['coretype']).plot.barh();\n",
    "plt.title(\"Tasic 2015 Cell Type Clusters\");"
   ]
  },
  {
   "cell_type": "code",
   "execution_count": 20,
   "metadata": {
    "scrolled": true
   },
   "outputs": [
    {
     "data": {
      "image/png": "[encoded data removed]",
      "text/plain": [
       "<Figure size 720x360 with 1 Axes>"
      ]
     },
     "metadata": {
      "needs_background": "light"
     },
     "output_type": "display_data"
    }
   ],
   "source": [
    "pd.value_counts(df_types['layer_dissectoin']).plot.barh(figsize = (10,5));\n",
    "plt.title(\"Layer of Dissection distributions\");"
   ]
  },
  {
   "cell_type": "code",
   "execution_count": 21,
   "metadata": {},
   "outputs": [
    {
     "data": {
      "image/png": "[encoded data removed]",
      "text/plain": [
       "<Figure size 720x360 with 1 Axes>"
      ]
     },
     "metadata": {
      "needs_background": "light"
     },
     "output_type": "display_data"
    }
   ],
   "source": [
    "pd.value_counts(df_types['cre']).plot.barh(figsize = (10,5));\n",
    "plt.title(\"Mouse Cre Line Distributions\");"
   ]
  },
  {
   "cell_type": "markdown",
   "metadata": {},
   "source": [
    "### Phenotype Bagging"
   ]
  },
  {
   "cell_type": "code",
   "execution_count": 22,
   "metadata": {
    "scrolled": true
   },
   "outputs": [
    {
     "data": {
      "text/html": [
       "<div>\n",
       "<style scoped>\n",
       "    .dataframe tbody tr th:only-of-type {\n",
       "        vertical-align: middle;\n",
       "    }\n",
       "\n",
       "    .dataframe tbody tr th {\n",
       "        vertical-align: top;\n",
       "    }\n",
       "\n",
       "    .dataframe thead th {\n",
       "        text-align: right;\n",
       "    }\n",
       "</style>\n",
       "<table border=\"1\" class=\"dataframe\">\n",
       "  <thead>\n",
       "    <tr style=\"text-align: right;\">\n",
       "      <th></th>\n",
       "      <th>short_name</th>\n",
       "      <th>coretype</th>\n",
       "      <th>primary</th>\n",
       "      <th>secondary</th>\n",
       "      <th>cre</th>\n",
       "      <th>major_dissection</th>\n",
       "      <th>layer_dissectoin</th>\n",
       "      <th>cluster</th>\n",
       "      <th>markers_present</th>\n",
       "      <th>markers_absent</th>\n",
       "    </tr>\n",
       "  </thead>\n",
       "  <tbody>\n",
       "    <tr>\n",
       "      <td>0</td>\n",
       "      <td>A200_V</td>\n",
       "      <td>Core</td>\n",
       "      <td>f01</td>\n",
       "      <td>0</td>\n",
       "      <td>Calb2</td>\n",
       "      <td>V1</td>\n",
       "      <td>All</td>\n",
       "      <td>81</td>\n",
       "      <td>{ Cox6a2,  Tpm2,  Itih5, Crispld2,  Cxcl14}</td>\n",
       "      <td>{ Car4, Npy2r,  Sorl1}</td>\n",
       "    </tr>\n",
       "    <tr>\n",
       "      <td>1</td>\n",
       "      <td>A201_V</td>\n",
       "      <td>Core</td>\n",
       "      <td>f02</td>\n",
       "      <td>0</td>\n",
       "      <td>Calb2</td>\n",
       "      <td>V1</td>\n",
       "      <td>All</td>\n",
       "      <td>80</td>\n",
       "      <td>{Cxcl14,  Car4,  Tac2}</td>\n",
       "      <td>{Mybpc1,  Slc44a5,  Npy2r}</td>\n",
       "    </tr>\n",
       "    <tr>\n",
       "      <td>2</td>\n",
       "      <td>A202_V</td>\n",
       "      <td>Core</td>\n",
       "      <td>f24</td>\n",
       "      <td>0</td>\n",
       "      <td>Calb2</td>\n",
       "      <td>V1</td>\n",
       "      <td>All</td>\n",
       "      <td>70</td>\n",
       "      <td>{ Lmo3,  Rorb,  Inhba,  Sparcl1,  Pde1a,  Whrn...</td>\n",
       "      <td>{ Kitl, Scnn1a,  Endou,  Fam19a1}</td>\n",
       "    </tr>\n",
       "  </tbody>\n",
       "</table>\n",
       "</div>"
      ],
      "text/plain": [
       "  short_name coretype primary secondary    cre major_dissection  \\\n",
       "0     A200_V     Core     f01         0  Calb2               V1   \n",
       "1     A201_V     Core     f02         0  Calb2               V1   \n",
       "2     A202_V     Core     f24         0  Calb2               V1   \n",
       "\n",
       "  layer_dissectoin  cluster  \\\n",
       "0              All       81   \n",
       "1              All       80   \n",
       "2              All       70   \n",
       "\n",
       "                                     markers_present  \\\n",
       "0        { Cox6a2,  Tpm2,  Itih5, Crispld2,  Cxcl14}   \n",
       "1                             {Cxcl14,  Car4,  Tac2}   \n",
       "2  { Lmo3,  Rorb,  Inhba,  Sparcl1,  Pde1a,  Whrn...   \n",
       "\n",
       "                      markers_absent  \n",
       "0             { Car4, Npy2r,  Sorl1}  \n",
       "1         {Mybpc1,  Slc44a5,  Npy2r}  \n",
       "2  { Kitl, Scnn1a,  Endou,  Fam19a1}  "
      ]
     },
     "execution_count": 22,
     "metadata": {},
     "output_type": "execute_result"
    }
   ],
   "source": [
    "#Tables should now be in final version\n",
    "df_types.head(3)"
   ]
  },
  {
   "cell_type": "code",
   "execution_count": 23,
   "metadata": {
    "scrolled": true
   },
   "outputs": [
    {
     "data": {
      "text/html": [
       "<div>\n",
       "<style scoped>\n",
       "    .dataframe tbody tr th:only-of-type {\n",
       "        vertical-align: middle;\n",
       "    }\n",
       "\n",
       "    .dataframe tbody tr th {\n",
       "        vertical-align: top;\n",
       "    }\n",
       "\n",
       "    .dataframe thead th {\n",
       "        text-align: right;\n",
       "    }\n",
       "</style>\n",
       "<table border=\"1\" class=\"dataframe\">\n",
       "  <thead>\n",
       "    <tr style=\"text-align: right;\">\n",
       "      <th></th>\n",
       "      <th>#</th>\n",
       "      <th>Driver Line</th>\n",
       "      <th>Abbreviation</th>\n",
       "      <th>Originating Lab (Donating Investigator)</th>\n",
       "      <th>Primary Reference</th>\n",
       "      <th>Generation Method</th>\n",
       "      <th>Generation Method, more detail</th>\n",
       "      <th>Public Repository</th>\n",
       "      <th>Public Repository Stock #</th>\n",
       "      <th>Repository Strain Name</th>\n",
       "      <th>Data available through the Allen Institute Transgenic Portal</th>\n",
       "    </tr>\n",
       "  </thead>\n",
       "  <tbody>\n",
       "    <tr>\n",
       "      <td>7</td>\n",
       "      <td>8.0</td>\n",
       "      <td>Ndnf-IRES2-dgCre</td>\n",
       "      <td>Ndnf</td>\n",
       "      <td>Allen Institute for Brain Science</td>\n",
       "      <td>This paper</td>\n",
       "      <td>Knock-in</td>\n",
       "      <td>IRES2</td>\n",
       "      <td>NaN</td>\n",
       "      <td>NaN</td>\n",
       "      <td>NaN</td>\n",
       "      <td>http://connectivity.brain-map.org/transgenic/s...</td>\n",
       "    </tr>\n",
       "  </tbody>\n",
       "</table>\n",
       "</div>"
      ],
      "text/plain": [
       "     #       Driver Line Abbreviation Originating Lab (Donating Investigator)  \\\n",
       "7  8.0  Ndnf-IRES2-dgCre         Ndnf       Allen Institute for Brain Science   \n",
       "\n",
       "  Primary Reference Generation Method Generation Method, more detail  \\\n",
       "7        This paper          Knock-in                          IRES2   \n",
       "\n",
       "  Public Repository   Public Repository Stock # Repository Strain Name  \\\n",
       "7                NaN                        NaN                    NaN   \n",
       "\n",
       "  Data available through the Allen Institute Transgenic Portal  \n",
       "7  http://connectivity.brain-map.org/transgenic/s...            "
      ]
     },
     "execution_count": 23,
     "metadata": {},
     "output_type": "execute_result"
    }
   ],
   "source": [
    "df_cre_mtd[df_cre_mtd['Abbreviation'] == 'Ndnf']"
   ]
  },
  {
   "cell_type": "code",
   "execution_count": 24,
   "metadata": {},
   "outputs": [
    {
     "data": {
      "text/plain": [
       "29"
      ]
     },
     "execution_count": 24,
     "metadata": {},
     "output_type": "execute_result"
    }
   ],
   "source": [
    "len(df_types['cre'].value_counts())"
   ]
  },
  {
   "cell_type": "code",
   "execution_count": 25,
   "metadata": {},
   "outputs": [
    {
     "data": {
      "text/plain": [
       "27"
      ]
     },
     "execution_count": 25,
     "metadata": {},
     "output_type": "execute_result"
    }
   ],
   "source": [
    "len(df_cre_mtd)"
   ]
  },
  {
   "cell_type": "code",
   "execution_count": 26,
   "metadata": {},
   "outputs": [
    {
     "data": {
      "text/plain": [
       "24"
      ]
     },
     "execution_count": 26,
     "metadata": {},
     "output_type": "execute_result"
    }
   ],
   "source": [
    "#We're supposed to have 29 cre-line types\n",
    "len(cre_df)"
   ]
  },
  {
   "cell_type": "code",
   "execution_count": 28,
   "metadata": {},
   "outputs": [
    {
     "ename": "AttributeError",
     "evalue": "module 'pandas' has no attribute 'diff'",
     "output_type": "error",
     "traceback": [
      "\u001b[0;31m---------------------------------------------------------------------------\u001b[0m",
      "\u001b[0;31mAttributeError\u001b[0m                            Traceback (most recent call last)",
      "\u001b[0;32m<ipython-input-28-64539df42d44>\u001b[0m in \u001b[0;36m<module>\u001b[0;34m\u001b[0m\n\u001b[0;32m----> 1\u001b[0;31m \u001b[0mpd\u001b[0m\u001b[0;34m.\u001b[0m\u001b[0mdiff\u001b[0m\u001b[0;34m(\u001b[0m\u001b[0mcre_df\u001b[0m\u001b[0;34m[\u001b[0m\u001b[0;34m'Abbreviation'\u001b[0m\u001b[0;34m]\u001b[0m\u001b[0;34m,\u001b[0m \u001b[0mdf_types\u001b[0m\u001b[0;34m[\u001b[0m\u001b[0;34m'cre'\u001b[0m\u001b[0;34m]\u001b[0m\u001b[0;34m)\u001b[0m\u001b[0;34m\u001b[0m\u001b[0;34m\u001b[0m\u001b[0m\n\u001b[0m",
      "\u001b[0;32m~/miniconda3/envs/neuron/lib/python3.7/site-packages/pandas/__init__.py\u001b[0m in \u001b[0;36m__getattr__\u001b[0;34m(name)\u001b[0m\n\u001b[1;32m    212\u001b[0m \u001b[0;34m\u001b[0m\u001b[0m\n\u001b[1;32m    213\u001b[0m             \u001b[0;32mreturn\u001b[0m \u001b[0mPanel\u001b[0m\u001b[0;34m\u001b[0m\u001b[0;34m\u001b[0m\u001b[0m\n\u001b[0;32m--> 214\u001b[0;31m         \u001b[0;32mraise\u001b[0m \u001b[0mAttributeError\u001b[0m\u001b[0;34m(\u001b[0m\u001b[0;34m\"module 'pandas' has no attribute '{}'\"\u001b[0m\u001b[0;34m.\u001b[0m\u001b[0mformat\u001b[0m\u001b[0;34m(\u001b[0m\u001b[0mname\u001b[0m\u001b[0;34m)\u001b[0m\u001b[0;34m)\u001b[0m\u001b[0;34m\u001b[0m\u001b[0;34m\u001b[0m\u001b[0m\n\u001b[0m\u001b[1;32m    215\u001b[0m \u001b[0;34m\u001b[0m\u001b[0m\n\u001b[1;32m    216\u001b[0m \u001b[0;34m\u001b[0m\u001b[0m\n",
      "\u001b[0;31mAttributeError\u001b[0m: module 'pandas' has no attribute 'diff'"
     ]
    }
   ],
   "source": [
    "pd.diff(cre_df['Abbreviation'], df_types['cre'])"
   ]
  },
  {
   "cell_type": "code",
   "execution_count": 44,
   "metadata": {},
   "outputs": [
    {
     "data": {
      "text/plain": [
       "[(0, 'Calb2'),\n",
       " (1, 'Chat'),\n",
       " (1, 'Chrna2'),\n",
       " (2, 'Cux2'),\n",
       " (3, 'Gad2'),\n",
       " (4, 'Htr3a'),\n",
       " (5, 'Ndnf'),\n",
       " (6, 'Nkx2.1'),\n",
       " (6, 'Nos1'),\n",
       " (7, 'Nr5a1'),\n",
       " (8, 'Ntsr1'),\n",
       " (9, 'Pvalb'),\n",
       " (10, 'PvalbD'),\n",
       " (10, 'Rbp4'),\n",
       " (11, 'PvalbF'),\n",
       " (11, 'Rorb'),\n",
       " (12, 'Scnn1a-Tg2'),\n",
       " (13, 'Scnn1a-Tg3'),\n",
       " (14, 'Slc17a6'),\n",
       " (15, 'Slc32a1'),\n",
       " (16, 'Sst'),\n",
       " (17, 'Tac1'),\n",
       " (18, 'Vip'),\n",
       " (19, 'Trib2*')]"
      ]
     },
     "execution_count": 44,
     "metadata": {},
     "output_type": "execute_result"
    }
   ],
   "source": [
    "b = sorted(cre_df['Abbreviation'].items())\n",
    "b"
   ]
  },
  {
   "cell_type": "code",
   "execution_count": 45,
   "metadata": {},
   "outputs": [
    {
     "data": {
      "text/plain": [
       "[('Calb2', 64),\n",
       " ('Chat', 6),\n",
       " ('Chrna2', 84),\n",
       " ('Ctgf', 23),\n",
       " ('Cux2', 122),\n",
       " ('Cux2 Neg', 15),\n",
       " ('Gad2', 77),\n",
       " ('Htr3a', 123),\n",
       " ('Ndnf', 19),\n",
       " ('Ndnf Neg', 12),\n",
       " ('Nkx2-1', 22),\n",
       " ('Nos1', 72),\n",
       " ('Nr5a1', 48),\n",
       " ('Ntsr1', 77),\n",
       " ('Ntsr1 Neg', 55),\n",
       " ('Pvalb', 89),\n",
       " ('PvalbD-Slc32a1', 44),\n",
       " ('PvalbF-Gad2', 87),\n",
       " ('Rbp4', 173),\n",
       " ('Rbp4 Neg', 23),\n",
       " ('Rorb', 54),\n",
       " ('Scnn1a-Tg2', 20),\n",
       " ('Scnn1a-Tg2 Neg', 18),\n",
       " ('Scnn1a-Tg3', 99),\n",
       " ('Scnn1a-Tg3 Neg', 23),\n",
       " ('Slc17a6', 47),\n",
       " ('Sst', 107),\n",
       " ('Tac2', 8),\n",
       " ('Vip', 68)]"
      ]
     },
     "execution_count": 45,
     "metadata": {},
     "output_type": "execute_result"
    }
   ],
   "source": [
    "a = sorted(df_types['cre'].value_counts().items())\n",
    "a"
   ]
  },
  {
   "cell_type": "code",
   "execution_count": 47,
   "metadata": {},
   "outputs": [
    {
     "data": {
      "text/plain": [
       "[(('Calb2', 64), (0, 'Calb2')),\n",
       " (('Chat', 6), (1, 'Chat')),\n",
       " (('Chrna2', 84), (1, 'Chrna2')),\n",
       " (('Ctgf', 23), (2, 'Cux2')),\n",
       " (('Cux2', 122), (3, 'Gad2')),\n",
       " (('Cux2 Neg', 15), (4, 'Htr3a')),\n",
       " (('Gad2', 77), (5, 'Ndnf')),\n",
       " (('Htr3a', 123), (6, 'Nkx2.1')),\n",
       " (('Ndnf', 19), (6, 'Nos1')),\n",
       " (('Ndnf Neg', 12), (7, 'Nr5a1')),\n",
       " (('Nkx2-1', 22), (8, 'Ntsr1')),\n",
       " (('Nos1', 72), (9, 'Pvalb')),\n",
       " (('Nr5a1', 48), (10, 'PvalbD')),\n",
       " (('Ntsr1', 77), (10, 'Rbp4')),\n",
       " (('Ntsr1 Neg', 55), (11, 'PvalbF')),\n",
       " (('Pvalb', 89), (11, 'Rorb')),\n",
       " (('PvalbD-Slc32a1', 44), (12, 'Scnn1a-Tg2')),\n",
       " (('PvalbF-Gad2', 87), (13, 'Scnn1a-Tg3')),\n",
       " (('Rbp4', 173), (14, 'Slc17a6')),\n",
       " (('Rbp4 Neg', 23), (15, 'Slc32a1')),\n",
       " (('Rorb', 54), (16, 'Sst')),\n",
       " (('Scnn1a-Tg2', 20), (17, 'Tac1')),\n",
       " (('Scnn1a-Tg2 Neg', 18), (18, 'Vip')),\n",
       " (('Scnn1a-Tg3', 99), (19, 'Trib2*'))]"
      ]
     },
     "execution_count": 47,
     "metadata": {},
     "output_type": "execute_result"
    }
   ],
   "source": [
    "list(zip(a,b))"
   ]
  },
  {
   "cell_type": "markdown",
   "metadata": {},
   "source": [
    "## Writing & Serializing"
   ]
  },
  {
   "cell_type": "code",
   "execution_count": 27,
   "metadata": {},
   "outputs": [
    {
     "ename": "NameError",
     "evalue": "name 'TasicBagger' is not defined",
     "output_type": "error",
     "traceback": [
      "\u001b[0;31m---------------------------------------------------------------------------\u001b[0m",
      "\u001b[0;31mNameError\u001b[0m                                 Traceback (most recent call last)",
      "\u001b[0;32m<ipython-input-27-a051907d3f74>\u001b[0m in \u001b[0;36m<module>\u001b[0;34m\u001b[0m\n\u001b[1;32m      1\u001b[0m \u001b[0mttl_test_path\u001b[0m \u001b[0;34m=\u001b[0m \u001b[0;34m'/var/host/media/removable/SD Card/Neuron/Tasic/ttl_export'\u001b[0m\u001b[0;34m\u001b[0m\u001b[0;34m\u001b[0m\u001b[0m\n\u001b[1;32m      2\u001b[0m \u001b[0mconfig\u001b[0m \u001b[0;34m=\u001b[0m \u001b[0mConfig\u001b[0m\u001b[0;34m(\u001b[0m\u001b[0;34m\"tasic-2015\"\u001b[0m\u001b[0;34m,\u001b[0m \u001b[0mttl_export_dir\u001b[0m\u001b[0;34m=\u001b[0m\u001b[0mPath\u001b[0m\u001b[0;34m(\u001b[0m\u001b[0mttl_test_path\u001b[0m\u001b[0;34m)\u001b[0m\u001b[0;34m)\u001b[0m\u001b[0;34m\u001b[0m\u001b[0;34m\u001b[0m\u001b[0m\n\u001b[0;32m----> 3\u001b[0;31m \u001b[0mtb\u001b[0m \u001b[0;34m=\u001b[0m \u001b[0mTasicBagger\u001b[0m\u001b[0;34m(\u001b[0m\u001b[0mdata\u001b[0m \u001b[0;34m=\u001b[0m \u001b[0mdf_types\u001b[0m\u001b[0;34m,\u001b[0m \u001b[0;34m**\u001b[0m\u001b[0mmetadata\u001b[0m\u001b[0;34m)\u001b[0m\u001b[0;34m\u001b[0m\u001b[0;34m\u001b[0m\u001b[0m\n\u001b[0m\u001b[1;32m      4\u001b[0m \u001b[0mind\u001b[0m \u001b[0;34m=\u001b[0m \u001b[0;36m0\u001b[0m\u001b[0;34m\u001b[0m\u001b[0;34m\u001b[0m\u001b[0m\n\u001b[1;32m      5\u001b[0m \u001b[0;32mfor\u001b[0m \u001b[0mlabel\u001b[0m\u001b[0;34m,\u001b[0m \u001b[0mbag\u001b[0m \u001b[0;32min\u001b[0m \u001b[0mtb\u001b[0m\u001b[0;34m.\u001b[0m\u001b[0mbags\u001b[0m\u001b[0;34m:\u001b[0m\u001b[0;34m\u001b[0m\u001b[0;34m\u001b[0m\u001b[0m\n",
      "\u001b[0;31mNameError\u001b[0m: name 'TasicBagger' is not defined"
     ]
    }
   ],
   "source": [
    "ttl_test_path = '/var/host/media/removable/SD Card/Neuron/Tasic/ttl_export'\n",
    "config = Config(\"tasic-2015\", ttl_export_dir=Path(ttl_test_path))\n",
    "tb = TasicBagger(data = df_types, **metadata)\n",
    "ind = 0\n",
    "for label, bag in tb.bags:\n",
    "    if ind == 1:\n",
    "        break\n",
    "    TasicNeuron(*bag, label = label, override=True)\n",
    "    ind += 1\n",
    "config.write()\n",
    "config.write_python()"
   ]
  },
  {
   "cell_type": "code",
   "execution_count": null,
   "metadata": {
    "scrolled": true
   },
   "outputs": [],
   "source": [
    "from neurondm.sheets import Sheet\n",
    "from neurondm import OntId, OntTerm, Config, NeuronEBM, Neuron\n",
    "from pyontutils.utils import byCol, relative_path\n",
    "from pyontutils.namespaces import ilxtr\n",
    "from pyontutils.closed_namespaces import rdfs\n",
    "\n",
    "main()"
   ]
  },
  {
   "cell_type": "code",
   "execution_count": null,
   "metadata": {},
   "outputs": [],
   "source": [
    "metadata = {\"cre\":cre_df}\n",
    "tb = TasicBagger(data = df_types, **metadata)\n",
    "tb.build_transgenic_lines()"
   ]
  },
  {
   "cell_type": "markdown",
   "metadata": {},
   "source": [
    "### Test Code"
   ]
  },
  {
   "cell_type": "code",
   "execution_count": null,
   "metadata": {},
   "outputs": [],
   "source": [
    "# metada query test\n",
    "df_cre_mtd[df_cre_mtd['Abbreviation'] == df_types['cre'][12]]"
   ]
  },
  {
   "cell_type": "code",
   "execution_count": null,
   "metadata": {},
   "outputs": [],
   "source": [
    "def main():\n",
    "    metadata = {\"cre\": cre_df}\n",
    "    ttl_test_path = '/mnt/c/Users/allen/Desktop/Neuron/Tasic2015/ttl_export'\n",
    "    config = Config(\"tasic-2015\", ttl_export_dir=Path(ttl_test_path))\n",
    "    tb = TasicBagger(data=df_types, **metadata)\n",
    "    ind = 0\n",
    "    for label, bag in tb.bags:\n",
    "        if ind == 10:\n",
    "            break\n",
    "        TasicNeuron(*bag, label=label, override=True)\n",
    "        ind += 1\n",
    "    config.write()"
   ]
  },
  {
   "cell_type": "code",
   "execution_count": null,
   "metadata": {
    "scrolled": true
   },
   "outputs": [],
   "source": [
    "with Tasic2015:\n",
    "    print(Mouse)"
   ]
  },
  {
   "cell_type": "code",
   "execution_count": null,
   "metadata": {},
   "outputs": [],
   "source": [
    "simpleOnt()"
   ]
  },
  {
   "cell_type": "code",
   "execution_count": null,
   "metadata": {},
   "outputs": [],
   "source": [
    "Phenotype(\"ilxtr:cluster6\", \"ilxtr:hasComputedMolecularPhenotype\", label = \"Tasic2015\", check = False)"
   ]
  },
  {
   "cell_type": "code",
   "execution_count": null,
   "metadata": {},
   "outputs": [],
   "source": [
    "from pyontutils.utils import byCol, relative_path\n",
    "from pyontutils.namespaces import ilxtr\n",
    "from pyontutils.closed_namespaces import rdfs"
   ]
  },
  {
   "cell_type": "code",
   "execution_count": null,
   "metadata": {},
   "outputs": [],
   "source": [
    "with Neuron(phns.Species.Mouse, phns.Regions.V1) as context:\n",
    "    print(context)\n",
    "    n11 = Neuron(phns.Layers.L1)\n",
    "    print(n11)"
   ]
  }
 ],
 "metadata": {
  "kernelspec": {
   "display_name": "Python 3",
   "language": "python",
   "name": "python3"
  },
  "language_info": {
   "codemirror_mode": {
    "name": "ipython",
    "version": 3
   },
   "file_extension": ".py",
   "mimetype": "text/x-python",
   "name": "python",
   "nbconvert_exporter": "python",
   "pygments_lexer": "ipython3",
   "version": "3.7.4"
  }
 },
 "nbformat": 4,
 "nbformat_minor": 2
}
